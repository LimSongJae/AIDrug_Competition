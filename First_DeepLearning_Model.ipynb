{
 "cells": [
  {
   "cell_type": "markdown",
   "id": "b16524af",
   "metadata": {},
   "source": [
    "### 23.08.10 UPDATE\n",
    "1. 데이터셋 내용 및 구성 변경\n",
    "\t- FPs feature transform 적용 해제 + 다른 3가지 feature 스케일링 후 합쳐서 데이터 셋 완성\n",
    "\t- 추후 FPs transform 적용해보기\n",
    "2. Learning_Rate 1e-5로 조정\n",
    "3. 레이어 계층 구조 변경\n",
    "4. Loss function을 RMSELoss function으로 변경"
   ]
  },
  {
   "cell_type": "code",
   "execution_count": 1,
   "id": "0ccd6857",
   "metadata": {},
   "outputs": [],
   "source": [
    "import random\n",
    "import os\n",
    "\n",
    "import numpy as np\n",
    "import pandas as pd\n",
    "\n",
    "from sklearn.feature_selection import VarianceThreshold\n",
    "from sklearn.model_selection import train_test_split\n",
    "\n",
    "import torch\n",
    "import torch.nn as nn\n",
    "from torch.utils.data import Dataset, DataLoader\n",
    "\n",
    "import missingno\n",
    "\n",
    "def seed_everything(seed):\n",
    "    random.seed(seed)\n",
    "    np.random.seed(seed)\n",
    "    os.environ[\"PYTHONHASHSEED\"] = str(seed)\n",
    "    torch.manual_seed(seed)\n",
    "\n",
    "seed_everything(42) # Seed 고정"
   ]
  },
  {
   "cell_type": "code",
   "execution_count": 2,
   "id": "2bae9eb4",
   "metadata": {},
   "outputs": [],
   "source": [
    "train = pd.read_csv('./data/train.csv')\n",
    "test = pd.read_csv('./data/test.csv')"
   ]
  },
  {
   "cell_type": "code",
   "execution_count": 3,
   "id": "7c333222",
   "metadata": {},
   "outputs": [
    {
     "data": {
      "text/html": [
       "<div>\n",
       "<style scoped>\n",
       "    .dataframe tbody tr th:only-of-type {\n",
       "        vertical-align: middle;\n",
       "    }\n",
       "\n",
       "    .dataframe tbody tr th {\n",
       "        vertical-align: top;\n",
       "    }\n",
       "\n",
       "    .dataframe thead th {\n",
       "        text-align: right;\n",
       "    }\n",
       "</style>\n",
       "<table border=\"1\" class=\"dataframe\">\n",
       "  <thead>\n",
       "    <tr style=\"text-align: right;\">\n",
       "      <th></th>\n",
       "      <th>id</th>\n",
       "      <th>SMILES</th>\n",
       "      <th>MLM</th>\n",
       "      <th>HLM</th>\n",
       "      <th>AlogP</th>\n",
       "      <th>Molecular_Weight</th>\n",
       "      <th>Num_H_Acceptors</th>\n",
       "      <th>Num_H_Donors</th>\n",
       "      <th>Num_RotatableBonds</th>\n",
       "      <th>LogD</th>\n",
       "      <th>Molecular_PolarSurfaceArea</th>\n",
       "    </tr>\n",
       "  </thead>\n",
       "  <tbody>\n",
       "    <tr>\n",
       "      <th>0</th>\n",
       "      <td>TRAIN_0000</td>\n",
       "      <td>CCOc1ccc(CNC(=O)c2cc(-c3sc(C)nc3C)n[nH]2)cc1OCC</td>\n",
       "      <td>26.010</td>\n",
       "      <td>50.680</td>\n",
       "      <td>3.259</td>\n",
       "      <td>400.495</td>\n",
       "      <td>5</td>\n",
       "      <td>2</td>\n",
       "      <td>8</td>\n",
       "      <td>3.259</td>\n",
       "      <td>117.37</td>\n",
       "    </tr>\n",
       "    <tr>\n",
       "      <th>1</th>\n",
       "      <td>TRAIN_0001</td>\n",
       "      <td>Cc1nc(C)c(CN2CC(C)C(=O)Nc3ccccc32)s1</td>\n",
       "      <td>29.270</td>\n",
       "      <td>50.590</td>\n",
       "      <td>2.169</td>\n",
       "      <td>301.407</td>\n",
       "      <td>2</td>\n",
       "      <td>1</td>\n",
       "      <td>2</td>\n",
       "      <td>2.172</td>\n",
       "      <td>73.47</td>\n",
       "    </tr>\n",
       "    <tr>\n",
       "      <th>2</th>\n",
       "      <td>TRAIN_0002</td>\n",
       "      <td>CCCN1CCN(c2nn3nnnc3c3ccccc23)CC1</td>\n",
       "      <td>5.586</td>\n",
       "      <td>80.892</td>\n",
       "      <td>1.593</td>\n",
       "      <td>297.358</td>\n",
       "      <td>5</td>\n",
       "      <td>0</td>\n",
       "      <td>3</td>\n",
       "      <td>1.585</td>\n",
       "      <td>62.45</td>\n",
       "    </tr>\n",
       "    <tr>\n",
       "      <th>3</th>\n",
       "      <td>TRAIN_0003</td>\n",
       "      <td>Cc1ccc(-c2ccc(-n3nc(C)c(S(=O)(=O)N4CCN(C5CCCCC...</td>\n",
       "      <td>5.710</td>\n",
       "      <td>2.000</td>\n",
       "      <td>4.771</td>\n",
       "      <td>494.652</td>\n",
       "      <td>6</td>\n",
       "      <td>0</td>\n",
       "      <td>5</td>\n",
       "      <td>3.475</td>\n",
       "      <td>92.60</td>\n",
       "    </tr>\n",
       "    <tr>\n",
       "      <th>4</th>\n",
       "      <td>TRAIN_0004</td>\n",
       "      <td>Cc1ccc2c(c1)N(C(=O)c1ccncc1)CC(C)O2</td>\n",
       "      <td>93.270</td>\n",
       "      <td>99.990</td>\n",
       "      <td>2.335</td>\n",
       "      <td>268.310</td>\n",
       "      <td>3</td>\n",
       "      <td>0</td>\n",
       "      <td>1</td>\n",
       "      <td>2.337</td>\n",
       "      <td>42.43</td>\n",
       "    </tr>\n",
       "  </tbody>\n",
       "</table>\n",
       "</div>"
      ],
      "text/plain": [
       "           id                                             SMILES     MLM  \\\n",
       "0  TRAIN_0000    CCOc1ccc(CNC(=O)c2cc(-c3sc(C)nc3C)n[nH]2)cc1OCC  26.010   \n",
       "1  TRAIN_0001               Cc1nc(C)c(CN2CC(C)C(=O)Nc3ccccc32)s1  29.270   \n",
       "2  TRAIN_0002                   CCCN1CCN(c2nn3nnnc3c3ccccc23)CC1   5.586   \n",
       "3  TRAIN_0003  Cc1ccc(-c2ccc(-n3nc(C)c(S(=O)(=O)N4CCN(C5CCCCC...   5.710   \n",
       "4  TRAIN_0004                Cc1ccc2c(c1)N(C(=O)c1ccncc1)CC(C)O2  93.270   \n",
       "\n",
       "      HLM  AlogP  Molecular_Weight  Num_H_Acceptors  Num_H_Donors  \\\n",
       "0  50.680  3.259           400.495                5             2   \n",
       "1  50.590  2.169           301.407                2             1   \n",
       "2  80.892  1.593           297.358                5             0   \n",
       "3   2.000  4.771           494.652                6             0   \n",
       "4  99.990  2.335           268.310                3             0   \n",
       "\n",
       "   Num_RotatableBonds   LogD  Molecular_PolarSurfaceArea  \n",
       "0                   8  3.259                      117.37  \n",
       "1                   2  2.172                       73.47  \n",
       "2                   3  1.585                       62.45  \n",
       "3                   5  3.475                       92.60  \n",
       "4                   1  2.337                       42.43  "
      ]
     },
     "execution_count": 3,
     "metadata": {},
     "output_type": "execute_result"
    }
   ],
   "source": [
    "train.head()"
   ]
  },
  {
   "cell_type": "code",
   "execution_count": 4,
   "id": "b750c156",
   "metadata": {},
   "outputs": [],
   "source": [
    "train = train.fillna(train['AlogP'].median())"
   ]
  },
  {
   "cell_type": "code",
   "execution_count": 5,
   "id": "3392b0e8",
   "metadata": {},
   "outputs": [
    {
     "data": {
      "text/plain": [
       "<Axes: >"
      ]
     },
     "execution_count": 5,
     "metadata": {},
     "output_type": "execute_result"
    },
    {
     "data": {
      "image/png": "[encoded data removed]",
      "text/plain": [
       "<Figure size 2500x1000 with 2 Axes>"
      ]
     },
     "metadata": {},
     "output_type": "display_data"
    }
   ],
   "source": [
    "missingno.matrix(train)"
   ]
  },
  {
   "cell_type": "code",
   "execution_count": 6,
   "id": "6a8c2105",
   "metadata": {},
   "outputs": [
    {
     "name": "stdout",
     "output_type": "stream",
     "text": [
      "Requirement already satisfied: rdkit-pypi in /opt/homebrew/anaconda3/lib/python3.10/site-packages (2022.9.5)\r\n",
      "Requirement already satisfied: numpy in /opt/homebrew/anaconda3/lib/python3.10/site-packages (from rdkit-pypi) (1.23.5)\r\n",
      "Requirement already satisfied: Pillow in /opt/homebrew/anaconda3/lib/python3.10/site-packages (from rdkit-pypi) (9.4.0)\r\n"
     ]
    }
   ],
   "source": [
    "!pip install rdkit-pypi"
   ]
  },
  {
   "cell_type": "code",
   "execution_count": 7,
   "id": "ce90a049",
   "metadata": {},
   "outputs": [],
   "source": [
    "from rdkit import DataStructs\n",
    "from rdkit.Chem import PandasTools,AllChem\n",
    "\n",
    "PandasTools.AddMoleculeColumnToFrame(train,'SMILES','Molecule')\n",
    "PandasTools.AddMoleculeColumnToFrame(test,'SMILES','Molecule')\n",
    "\n",
    "def mol2fp(mol):\n",
    "    fp = AllChem.GetHashedMorganFingerprint(mol, 6, nBits=4096)\n",
    "    ar = np.zeros((1,), dtype=np.int8)\n",
    "    DataStructs.ConvertToNumpyArray(fp, ar)\n",
    "    return ar\n",
    "\n",
    "# FPs column 추가\n",
    "train[\"FPs\"] = train.Molecule.apply(mol2fp)\n",
    "test[\"FPs\"] = test.Molecule.apply(mol2fp)"
   ]
  },
  {
   "cell_type": "code",
   "execution_count": 8,
   "id": "0f39ea03",
   "metadata": {},
   "outputs": [],
   "source": [
    "# 사용할 column만 추출\n",
    "train = train[['AlogP', 'Num_H_Donors', 'LogD', 'FPs', 'MLM', 'HLM']]\n",
    "test = test[['AlogP', 'Num_H_Donors', 'LogD', 'FPs']]"
   ]
  },
  {
   "cell_type": "code",
   "execution_count": 9,
   "id": "c323e5a8",
   "metadata": {
    "scrolled": true
   },
   "outputs": [
    {
     "data": {
      "text/html": [
       "<div>\n",
       "<style scoped>\n",
       "    .dataframe tbody tr th:only-of-type {\n",
       "        vertical-align: middle;\n",
       "    }\n",
       "\n",
       "    .dataframe tbody tr th {\n",
       "        vertical-align: top;\n",
       "    }\n",
       "\n",
       "    .dataframe thead th {\n",
       "        text-align: right;\n",
       "    }\n",
       "</style>\n",
       "<table border=\"1\" class=\"dataframe\">\n",
       "  <thead>\n",
       "    <tr style=\"text-align: right;\">\n",
       "      <th></th>\n",
       "      <th>AlogP</th>\n",
       "      <th>Num_H_Donors</th>\n",
       "      <th>LogD</th>\n",
       "      <th>FPs</th>\n",
       "      <th>MLM</th>\n",
       "      <th>HLM</th>\n",
       "    </tr>\n",
       "  </thead>\n",
       "  <tbody>\n",
       "    <tr>\n",
       "      <th>0</th>\n",
       "      <td>3.259</td>\n",
       "      <td>2</td>\n",
       "      <td>3.259</td>\n",
       "      <td>[0, 0, 0, 0, 0, 0, 0, 0, 0, 0, 0, 0, 0, 0, 0, ...</td>\n",
       "      <td>26.010</td>\n",
       "      <td>50.680</td>\n",
       "    </tr>\n",
       "    <tr>\n",
       "      <th>1</th>\n",
       "      <td>2.169</td>\n",
       "      <td>1</td>\n",
       "      <td>2.172</td>\n",
       "      <td>[0, 0, 0, 0, 0, 0, 0, 0, 0, 0, 0, 0, 0, 0, 0, ...</td>\n",
       "      <td>29.270</td>\n",
       "      <td>50.590</td>\n",
       "    </tr>\n",
       "    <tr>\n",
       "      <th>2</th>\n",
       "      <td>1.593</td>\n",
       "      <td>0</td>\n",
       "      <td>1.585</td>\n",
       "      <td>[0, 0, 0, 0, 0, 0, 0, 0, 0, 0, 0, 0, 0, 0, 0, ...</td>\n",
       "      <td>5.586</td>\n",
       "      <td>80.892</td>\n",
       "    </tr>\n",
       "    <tr>\n",
       "      <th>3</th>\n",
       "      <td>4.771</td>\n",
       "      <td>0</td>\n",
       "      <td>3.475</td>\n",
       "      <td>[0, 0, 1, 0, 0, 0, 0, 0, 0, 0, 0, 0, 0, 0, 0, ...</td>\n",
       "      <td>5.710</td>\n",
       "      <td>2.000</td>\n",
       "    </tr>\n",
       "    <tr>\n",
       "      <th>4</th>\n",
       "      <td>2.335</td>\n",
       "      <td>0</td>\n",
       "      <td>2.337</td>\n",
       "      <td>[0, 0, 0, 0, 0, 0, 0, 0, 0, 0, 0, 0, 0, 0, 0, ...</td>\n",
       "      <td>93.270</td>\n",
       "      <td>99.990</td>\n",
       "    </tr>\n",
       "    <tr>\n",
       "      <th>...</th>\n",
       "      <td>...</td>\n",
       "      <td>...</td>\n",
       "      <td>...</td>\n",
       "      <td>...</td>\n",
       "      <td>...</td>\n",
       "      <td>...</td>\n",
       "    </tr>\n",
       "    <tr>\n",
       "      <th>3493</th>\n",
       "      <td>3.409</td>\n",
       "      <td>1</td>\n",
       "      <td>3.409</td>\n",
       "      <td>[0, 0, 0, 0, 0, 0, 0, 0, 0, 0, 0, 0, 0, 0, 0, ...</td>\n",
       "      <td>1.556</td>\n",
       "      <td>3.079</td>\n",
       "    </tr>\n",
       "    <tr>\n",
       "      <th>3494</th>\n",
       "      <td>1.912</td>\n",
       "      <td>1</td>\n",
       "      <td>1.844</td>\n",
       "      <td>[0, 0, 0, 0, 0, 0, 0, 0, 0, 0, 0, 0, 0, 0, 0, ...</td>\n",
       "      <td>35.560</td>\n",
       "      <td>47.630</td>\n",
       "    </tr>\n",
       "    <tr>\n",
       "      <th>3495</th>\n",
       "      <td>1.941</td>\n",
       "      <td>1</td>\n",
       "      <td>2.124</td>\n",
       "      <td>[1, 0, 0, 0, 0, 0, 0, 0, 0, 0, 0, 0, 0, 0, 0, ...</td>\n",
       "      <td>56.150</td>\n",
       "      <td>1.790</td>\n",
       "    </tr>\n",
       "    <tr>\n",
       "      <th>3496</th>\n",
       "      <td>0.989</td>\n",
       "      <td>1</td>\n",
       "      <td>0.989</td>\n",
       "      <td>[0, 0, 0, 0, 0, 0, 0, 0, 0, 0, 0, 0, 0, 1, 0, ...</td>\n",
       "      <td>0.030</td>\n",
       "      <td>2.770</td>\n",
       "    </tr>\n",
       "    <tr>\n",
       "      <th>3497</th>\n",
       "      <td>4.321</td>\n",
       "      <td>0</td>\n",
       "      <td>4.321</td>\n",
       "      <td>[0, 0, 0, 0, 0, 0, 0, 0, 0, 0, 0, 0, 0, 0, 0, ...</td>\n",
       "      <td>0.450</td>\n",
       "      <td>2.650</td>\n",
       "    </tr>\n",
       "  </tbody>\n",
       "</table>\n",
       "<p>3498 rows × 6 columns</p>\n",
       "</div>"
      ],
      "text/plain": [
       "      AlogP  Num_H_Donors   LogD  \\\n",
       "0     3.259             2  3.259   \n",
       "1     2.169             1  2.172   \n",
       "2     1.593             0  1.585   \n",
       "3     4.771             0  3.475   \n",
       "4     2.335             0  2.337   \n",
       "...     ...           ...    ...   \n",
       "3493  3.409             1  3.409   \n",
       "3494  1.912             1  1.844   \n",
       "3495  1.941             1  2.124   \n",
       "3496  0.989             1  0.989   \n",
       "3497  4.321             0  4.321   \n",
       "\n",
       "                                                    FPs     MLM     HLM  \n",
       "0     [0, 0, 0, 0, 0, 0, 0, 0, 0, 0, 0, 0, 0, 0, 0, ...  26.010  50.680  \n",
       "1     [0, 0, 0, 0, 0, 0, 0, 0, 0, 0, 0, 0, 0, 0, 0, ...  29.270  50.590  \n",
       "2     [0, 0, 0, 0, 0, 0, 0, 0, 0, 0, 0, 0, 0, 0, 0, ...   5.586  80.892  \n",
       "3     [0, 0, 1, 0, 0, 0, 0, 0, 0, 0, 0, 0, 0, 0, 0, ...   5.710   2.000  \n",
       "4     [0, 0, 0, 0, 0, 0, 0, 0, 0, 0, 0, 0, 0, 0, 0, ...  93.270  99.990  \n",
       "...                                                 ...     ...     ...  \n",
       "3493  [0, 0, 0, 0, 0, 0, 0, 0, 0, 0, 0, 0, 0, 0, 0, ...   1.556   3.079  \n",
       "3494  [0, 0, 0, 0, 0, 0, 0, 0, 0, 0, 0, 0, 0, 0, 0, ...  35.560  47.630  \n",
       "3495  [1, 0, 0, 0, 0, 0, 0, 0, 0, 0, 0, 0, 0, 0, 0, ...  56.150   1.790  \n",
       "3496  [0, 0, 0, 0, 0, 0, 0, 0, 0, 0, 0, 0, 0, 1, 0, ...   0.030   2.770  \n",
       "3497  [0, 0, 0, 0, 0, 0, 0, 0, 0, 0, 0, 0, 0, 0, 0, ...   0.450   2.650  \n",
       "\n",
       "[3498 rows x 6 columns]"
      ]
     },
     "execution_count": 9,
     "metadata": {},
     "output_type": "execute_result"
    }
   ],
   "source": [
    "train"
   ]
  },
  {
   "cell_type": "code",
   "execution_count": 10,
   "id": "b099a6fe",
   "metadata": {
    "scrolled": true
   },
   "outputs": [],
   "source": [
    "from sklearn.preprocessing import StandardScaler\n",
    "import numpy as np\n",
    "import torch\n",
    "from torch.utils.data import Dataset\n",
    "\n",
    "class CustomDataset(Dataset):\n",
    "    def __init__(self, df, target, transform, is_test=False):\n",
    "        self.df = df\n",
    "        self.target = target\n",
    "        self.is_test = is_test\n",
    "\n",
    "        self.feature_select = transform\n",
    "\n",
    "        # 스케일링\n",
    "        if not self.is_test:\n",
    "            self.features = self.feature_select.transform(df.drop(['FPs','MLM', 'HLM'], axis=1))\n",
    "        else:\n",
    "            self.features = self.feature_select.transform(df.drop(['FPs'], axis=1))\n",
    "            \n",
    "        # 'FPs' 특성도 그대로 포함\n",
    "        self.fps = np.stack(df['FPs'])\n",
    "\n",
    "        # combined_features를 __init__ 메서드 내에서 계산\n",
    "        self.combined_features = np.concatenate([self.features, self.fps], axis=1)\n",
    "\n",
    "        if not self.is_test:\n",
    "            self.labels = df[self.target].values\n",
    "        else:\n",
    "            self.labels = None\n",
    "\n",
    "    def __getitem__(self, index):\n",
    "        combined_feature = self.combined_features[index]\n",
    "\n",
    "        if not self.is_test:\n",
    "            label = self.labels[index]\n",
    "            return torch.tensor(combined_feature).float(), torch.tensor(label).float().unsqueeze(dim=-1)\n",
    "        else:\n",
    "            return torch.tensor(combined_feature).float()\n",
    "\n",
    "    def __len__(self):\n",
    "        return len(self.df)\n"
   ]
  },
  {
   "cell_type": "code",
   "execution_count": 11,
   "id": "159d33f3",
   "metadata": {},
   "outputs": [
    {
     "name": "stdout",
     "output_type": "stream",
     "text": [
      "4099\n"
     ]
    }
   ],
   "source": [
    "# 훈련 및 테스트 데이터를 불러오고 전처리합니다\n",
    "train_transform = StandardScaler()\n",
    "train_transform.fit(train.drop(['FPs','MLM', 'HLM'], axis=1))  # 훈련 데이터에 Scaler를 적합\n",
    "\n",
    "test_transform = StandardScaler()\n",
    "test_transform.fit(test.drop(['FPs'], axis=1))  # 훈련 데이터에 Scaler를 적합\n",
    "\n",
    "train_MLM = CustomDataset(df=train, target='MLM', transform=train_transform, is_test=False)\n",
    "train_HLM = CustomDataset(df=train, target='HLM', transform=train_transform, is_test=False)\n",
    "\n",
    "test_MLM = CustomDataset(df=test, target='MLM', transform=test_transform, is_test=True)\n",
    "test_HLM = CustomDataset(df=test, target='HLM', transform=test_transform, is_test=True)\n",
    "\n",
    "input_size = train_MLM.combined_features.shape[1]\n",
    "print(input_size)\n"
   ]
  },
  {
   "cell_type": "code",
   "execution_count": 12,
   "id": "7b94fecd",
   "metadata": {},
   "outputs": [
    {
     "data": {
      "text/plain": [
       "array([[-0.01492887,  0.95297089,  0.08479639],\n",
       "       [-1.23881931, -1.0972961 , -1.05913519],\n",
       "       [ 0.95834977,  3.00323789,  1.00831189],\n",
       "       ...,\n",
       "       [-0.52031942, -0.07216261, -0.3856106 ],\n",
       "       [-1.11678743,  0.95297089, -1.14953369],\n",
       "       [ 0.06900525, -1.0972961 , -1.04741687]])"
      ]
     },
     "execution_count": 12,
     "metadata": {},
     "output_type": "execute_result"
    }
   ],
   "source": [
    "test_MLM.features"
   ]
  },
  {
   "cell_type": "code",
   "execution_count": 13,
   "id": "9b686d67",
   "metadata": {},
   "outputs": [],
   "source": [
    "# Hyperparameter\n",
    "CFG = {'BATCH_SIZE': 256,\n",
    "       'EPOCHS': 1000,\n",
    "       'INPUT_SIZE': input_size,\n",
    "       'HIDDEN_SIZE': 1024,\n",
    "       'OUTPUT_SIZE': 1,\n",
    "       'DROPOUT_RATE': 0.8,\n",
    "       'LEARNING_RATE': 1e-5}"
   ]
  },
  {
   "cell_type": "code",
   "execution_count": 14,
   "id": "419fd029",
   "metadata": {},
   "outputs": [],
   "source": [
    "# train,valid split\n",
    "train_MLM_dataset, valid_MLM_dataset = train_test_split(train_MLM, test_size=0.2, random_state=42)\n",
    "train_HLM_dataset, valid_HLM_dataset = train_test_split(train_HLM, test_size=0.2, random_state=42)"
   ]
  },
  {
   "cell_type": "code",
   "execution_count": 15,
   "id": "a484a58e",
   "metadata": {},
   "outputs": [],
   "source": [
    "train_MLM_loader = DataLoader(dataset=train_MLM_dataset,\n",
    "                              batch_size=CFG['BATCH_SIZE'],\n",
    "                              shuffle=True)\n",
    "\n",
    "valid_MLM_loader = DataLoader(dataset=valid_MLM_dataset,\n",
    "                              batch_size=CFG['BATCH_SIZE'],\n",
    "                              shuffle=False)\n",
    "\n",
    "\n",
    "train_HLM_loader = DataLoader(dataset=train_HLM_dataset,\n",
    "                              batch_size=CFG['BATCH_SIZE'],\n",
    "                              shuffle=True)\n",
    "\n",
    "valid_HLM_loader = DataLoader(dataset=valid_HLM_dataset,\n",
    "                              batch_size=CFG['BATCH_SIZE'],\n",
    "                              shuffle=False)\n",
    "\n",
    "test_MLM_loader = DataLoader(dataset=test_MLM,\n",
    "                             batch_size=CFG['BATCH_SIZE'],\n",
    "                             shuffle=False)\n",
    "\n",
    "test_HLM_loader = DataLoader(dataset=test_HLM,\n",
    "                             batch_size=CFG['BATCH_SIZE'],\n",
    "                             shuffle=False)"
   ]
  },
  {
   "cell_type": "code",
   "execution_count": 16,
   "id": "a30b62fd",
   "metadata": {},
   "outputs": [],
   "source": [
    "class Net(nn.Module):\n",
    "    def __init__(self, input_size, out_size):\n",
    "        super(Net, self).__init__()\n",
    "        \n",
    "        self.linear_layers = nn.Sequential (  \n",
    "            nn.Linear(input_size, 21843, bias=True),\n",
    "            nn.LeakyReLU(),\n",
    "            nn.BatchNorm1d(21843),\n",
    "            nn.Linear(21843, 512, bias=True),\n",
    "            nn.LeakyReLU(),\n",
    "            nn.BatchNorm1d(512),\n",
    "            nn.Linear(512, out_size, bias=True),\n",
    "        )\n",
    "     \n",
    "    def forward(self, x):\n",
    "        y = self.linear_layers(x)\n",
    "        return y"
   ]
  },
  {
   "cell_type": "code",
   "execution_count": 17,
   "id": "5dc4de67",
   "metadata": {},
   "outputs": [],
   "source": [
    "model_MLM = Net(CFG['INPUT_SIZE'],CFG['OUTPUT_SIZE'])\n",
    "model_HLM = Net(CFG['INPUT_SIZE'],CFG['OUTPUT_SIZE'])"
   ]
  },
  {
   "cell_type": "code",
   "execution_count": 18,
   "id": "883875f9",
   "metadata": {},
   "outputs": [],
   "source": [
    "import torch.nn as nn\n",
    "\n",
    "class RMSELoss(nn.Module):\n",
    "    def __init__(self):\n",
    "        super(RMSELoss, self).__init__()\n",
    "        self.mse = nn.MSELoss()  # 기존의 MSELoss 함수 사용\n",
    "        \n",
    "    def forward(self, output, target):\n",
    "        mse_loss = self.mse(output, target)  # 기존의 MSELoss를 계산\n",
    "        rmse_loss = torch.sqrt(mse_loss)  # MSE에 제곱근 씌워 RMSE 계산\n",
    "        return rmse_loss\n",
    "\n",
    "criterion = RMSELoss()\n",
    "optimizer_MLM = torch.optim.Adam(model_MLM.parameters(), lr=CFG['LEARNING_RATE'])\n",
    "optimizer_HLM = torch.optim.Adam(model_HLM.parameters(), lr=CFG['LEARNING_RATE'])\n"
   ]
  },
  {
   "cell_type": "code",
   "execution_count": 19,
   "id": "1149c1ad",
   "metadata": {},
   "outputs": [],
   "source": [
    "def train(train_loader, valid_loader, model, criterion, optimizer, epochs):\n",
    "    model.train()\n",
    "    \n",
    "    for epoch in range(epochs):\n",
    "        running_loss = 0\n",
    "        for inputs, targets in train_loader:\n",
    "            optimizer.zero_grad()\n",
    "            \n",
    "            output = model(inputs)\n",
    "            loss = criterion(output, targets)\n",
    "            loss.backward()\n",
    "            optimizer.step()\n",
    "            \n",
    "            running_loss += loss.item()\n",
    "        \n",
    "        if epoch % 100 == 0:\n",
    "            valid_loss = 0\n",
    "            with torch.no_grad():\n",
    "                for inputs, targets in valid_loader:\n",
    "                    output = model(inputs)\n",
    "                    loss = criterion(output, targets)\n",
    "                    valid_loss += loss.item()\n",
    "                    \n",
    "            print(f'Epoch: {epoch}/{epochs}, Train Loss: {running_loss/len(train_loader)}, Valid Loss: {valid_loss/len(valid_HLM_loader)}')\n",
    "            \n",
    "            model.train()\n",
    "    \n",
    "    return model"
   ]
  },
  {
   "cell_type": "code",
   "execution_count": 111,
   "id": "b4cbf2ca",
   "metadata": {},
   "outputs": [
    {
     "name": "stdout",
     "output_type": "stream",
     "text": [
      "Training Start: MLM\n",
      "Epoch: 0/1000, Train Loss: 51.017887115478516, Valid Loss: 51.80644226074219\n",
      "Epoch: 100/1000, Train Loss: 41.54564042524858, Valid Loss: 50.33233769734701\n",
      "Epoch: 200/1000, Train Loss: 38.99609999223189, Valid Loss: 50.27502314249674\n",
      "Epoch: 300/1000, Train Loss: 37.205820603804156, Valid Loss: 50.51786677042643\n",
      "Epoch: 400/1000, Train Loss: 35.989118576049805, Valid Loss: 51.06215031941732\n",
      "Epoch: 500/1000, Train Loss: 35.21124874461781, Valid Loss: 51.56392161051432\n",
      "Epoch: 600/1000, Train Loss: 34.55787121165883, Valid Loss: 51.32439168294271\n",
      "Epoch: 700/1000, Train Loss: 33.71428593722257, Valid Loss: 50.317562103271484\n",
      "Epoch: 800/1000, Train Loss: 32.63367548855868, Valid Loss: 49.35425567626953\n",
      "Epoch: 900/1000, Train Loss: 31.3660401430997, Valid Loss: 48.37641270955404\n",
      "Training Start: HLM\n",
      "Epoch: 0/1000, Train Loss: 64.08195426247336, Valid Loss: 62.53731155395508\n",
      "Epoch: 100/1000, Train Loss: 56.45296443592418, Valid Loss: 61.27613194783529\n",
      "Epoch: 200/1000, Train Loss: 54.45263810591264, Valid Loss: 61.175698598225914\n",
      "Epoch: 300/1000, Train Loss: 52.97219571200284, Valid Loss: 61.35047276814779\n",
      "Epoch: 400/1000, Train Loss: 51.92971628362482, Valid Loss: 61.66667938232422\n",
      "Epoch: 500/1000, Train Loss: 51.10801627419212, Valid Loss: 62.008828481038414\n",
      "Epoch: 600/1000, Train Loss: 50.42811757867987, Valid Loss: 61.258480072021484\n",
      "Epoch: 700/1000, Train Loss: 49.50867774269798, Valid Loss: 60.08777109781901\n",
      "Epoch: 800/1000, Train Loss: 48.369102478027344, Valid Loss: 58.928409576416016\n",
      "Epoch: 900/1000, Train Loss: 47.086843663995914, Valid Loss: 57.74316279093424\n"
     ]
    }
   ],
   "source": [
    "print(\"Training Start: MLM\")\n",
    "model_MLM = train(train_MLM_loader, valid_MLM_loader, model_MLM, criterion, optimizer_MLM, epochs=CFG['EPOCHS'])\n",
    "\n",
    "print(\"Training Start: HLM\")\n",
    "model_HLM = train(train_HLM_loader, valid_HLM_loader, model_HLM, criterion, optimizer_HLM, epochs=CFG['EPOCHS'])        "
   ]
  },
  {
   "cell_type": "markdown",
   "id": "4f53d2e0",
   "metadata": {},
   "source": [
    "### Save Model"
   ]
  },
  {
   "cell_type": "code",
   "execution_count": 119,
   "id": "d69b2416",
   "metadata": {},
   "outputs": [],
   "source": [
    "torch.save(model_MLM.state_dict(), 'models/23.08.10_model_MLM.pth')  # 모델 객체의 state_dict 저장\n",
    "torch.save(model_HLM.state_dict(), 'models/23.08.10_model_HLM.pth')"
   ]
  },
  {
   "cell_type": "markdown",
   "id": "f5b14eed",
   "metadata": {},
   "source": [
    "### Load Model"
   ]
  },
  {
   "cell_type": "code",
   "execution_count": 21,
   "id": "3aa1e064",
   "metadata": {},
   "outputs": [
    {
     "data": {
      "text/plain": [
       "<All keys matched successfully>"
      ]
     },
     "execution_count": 21,
     "metadata": {},
     "output_type": "execute_result"
    }
   ],
   "source": [
    "model_MLM.load_state_dict(torch.load('models/23.08.10_model_MLM.pth'))\n",
    "model_HLM.load_state_dict(torch.load('models/23.08.10_model_HLM.pth'))"
   ]
  },
  {
   "cell_type": "code",
   "execution_count": 121,
   "id": "448b8ffa",
   "metadata": {},
   "outputs": [],
   "source": [
    "def inference(test_loader, model):\n",
    "    model.eval()\n",
    "    preds = []\n",
    "    \n",
    "    with torch.no_grad():\n",
    "        for inputs in test_loader:\n",
    "            output = model(inputs)\n",
    "            preds.extend(output.cpu().numpy().flatten().tolist())\n",
    "    \n",
    "    return preds"
   ]
  },
  {
   "cell_type": "code",
   "execution_count": 122,
   "id": "a63b3c9c",
   "metadata": {},
   "outputs": [],
   "source": [
    "predictions_MLM = inference(test_MLM_loader, model_MLM)\n",
    "predictions_HLM = inference(test_HLM_loader, model_HLM)"
   ]
  },
  {
   "cell_type": "code",
   "execution_count": 123,
   "id": "1840f959",
   "metadata": {},
   "outputs": [
    {
     "data": {
      "text/html": [
       "<div>\n",
       "<style scoped>\n",
       "    .dataframe tbody tr th:only-of-type {\n",
       "        vertical-align: middle;\n",
       "    }\n",
       "\n",
       "    .dataframe tbody tr th {\n",
       "        vertical-align: top;\n",
       "    }\n",
       "\n",
       "    .dataframe thead th {\n",
       "        text-align: right;\n",
       "    }\n",
       "</style>\n",
       "<table border=\"1\" class=\"dataframe\">\n",
       "  <thead>\n",
       "    <tr style=\"text-align: right;\">\n",
       "      <th></th>\n",
       "      <th>id</th>\n",
       "      <th>MLM</th>\n",
       "      <th>HLM</th>\n",
       "    </tr>\n",
       "  </thead>\n",
       "  <tbody>\n",
       "    <tr>\n",
       "      <th>0</th>\n",
       "      <td>TEST_000</td>\n",
       "      <td>-12.575003</td>\n",
       "      <td>7.827060</td>\n",
       "    </tr>\n",
       "    <tr>\n",
       "      <th>1</th>\n",
       "      <td>TEST_001</td>\n",
       "      <td>31.561213</td>\n",
       "      <td>38.340233</td>\n",
       "    </tr>\n",
       "    <tr>\n",
       "      <th>2</th>\n",
       "      <td>TEST_002</td>\n",
       "      <td>4.566210</td>\n",
       "      <td>2.159594</td>\n",
       "    </tr>\n",
       "    <tr>\n",
       "      <th>3</th>\n",
       "      <td>TEST_003</td>\n",
       "      <td>0.073697</td>\n",
       "      <td>21.096611</td>\n",
       "    </tr>\n",
       "    <tr>\n",
       "      <th>4</th>\n",
       "      <td>TEST_004</td>\n",
       "      <td>-4.295326</td>\n",
       "      <td>21.358330</td>\n",
       "    </tr>\n",
       "    <tr>\n",
       "      <th>...</th>\n",
       "      <td>...</td>\n",
       "      <td>...</td>\n",
       "      <td>...</td>\n",
       "    </tr>\n",
       "    <tr>\n",
       "      <th>478</th>\n",
       "      <td>TEST_478</td>\n",
       "      <td>-12.380568</td>\n",
       "      <td>-18.808857</td>\n",
       "    </tr>\n",
       "    <tr>\n",
       "      <th>479</th>\n",
       "      <td>TEST_479</td>\n",
       "      <td>50.035934</td>\n",
       "      <td>41.234303</td>\n",
       "    </tr>\n",
       "    <tr>\n",
       "      <th>480</th>\n",
       "      <td>TEST_480</td>\n",
       "      <td>-8.212297</td>\n",
       "      <td>2.109220</td>\n",
       "    </tr>\n",
       "    <tr>\n",
       "      <th>481</th>\n",
       "      <td>TEST_481</td>\n",
       "      <td>29.442015</td>\n",
       "      <td>25.034269</td>\n",
       "    </tr>\n",
       "    <tr>\n",
       "      <th>482</th>\n",
       "      <td>TEST_482</td>\n",
       "      <td>-9.437018</td>\n",
       "      <td>20.101637</td>\n",
       "    </tr>\n",
       "  </tbody>\n",
       "</table>\n",
       "<p>483 rows × 3 columns</p>\n",
       "</div>"
      ],
      "text/plain": [
       "           id        MLM        HLM\n",
       "0    TEST_000 -12.575003   7.827060\n",
       "1    TEST_001  31.561213  38.340233\n",
       "2    TEST_002   4.566210   2.159594\n",
       "3    TEST_003   0.073697  21.096611\n",
       "4    TEST_004  -4.295326  21.358330\n",
       "..        ...        ...        ...\n",
       "478  TEST_478 -12.380568 -18.808857\n",
       "479  TEST_479  50.035934  41.234303\n",
       "480  TEST_480  -8.212297   2.109220\n",
       "481  TEST_481  29.442015  25.034269\n",
       "482  TEST_482  -9.437018  20.101637\n",
       "\n",
       "[483 rows x 3 columns]"
      ]
     },
     "execution_count": 123,
     "metadata": {},
     "output_type": "execute_result"
    }
   ],
   "source": [
    "submission = pd.read_csv('./data/sample_submission.csv')\n",
    "\n",
    "submission['MLM'] = predictions_MLM\n",
    "submission['HLM'] = predictions_HLM\n",
    "submission"
   ]
  },
  {
   "cell_type": "code",
   "execution_count": 124,
   "id": "5f67b6b5",
   "metadata": {},
   "outputs": [],
   "source": [
    "submission.to_csv('23.08.10_submission.csv', index=False)"
   ]
  },
  {
   "cell_type": "code",
   "execution_count": null,
   "id": "c5f61e29",
   "metadata": {},
   "outputs": [],
   "source": []
  }
 ],
 "metadata": {
  "kernelspec": {
   "display_name": "Python 3 (ipykernel)",
   "language": "python",
   "name": "python3"
  },
  "language_info": {
   "codemirror_mode": {
    "name": "ipython",
    "version": 3
   },
   "file_extension": ".py",
   "mimetype": "text/x-python",
   "name": "python",
   "nbconvert_exporter": "python",
   "pygments_lexer": "ipython3",
   "version": "3.10.9"
  }
 },
 "nbformat": 4,
 "nbformat_minor": 5
}
