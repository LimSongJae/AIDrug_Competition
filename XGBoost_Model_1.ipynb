{
 "cells": [
  {
   "cell_type": "code",
   "execution_count": 2,
   "id": "91ce4806",
   "metadata": {
    "colab": {
     "base_uri": "https://localhost:8080/"
    },
    "id": "91ce4806",
    "outputId": "ba448a95-5d90-4f0d-aa7a-72f9c41a0c57"
   },
   "outputs": [
    {
     "name": "stdout",
     "output_type": "stream",
     "text": [
      "cpu\n"
     ]
    }
   ],
   "source": [
    "import random\n",
    "import os\n",
    "\n",
    "import numpy as np\n",
    "import pandas as pd\n",
    "\n",
    "from sklearn.feature_selection import VarianceThreshold\n",
    "from sklearn.model_selection import train_test_split\n",
    "\n",
    "import torch\n",
    "import torch.nn as nn\n",
    "from torch.utils.data import Dataset, DataLoader\n",
    "\n",
    "import missingno\n",
    "\n",
    "# device 설정\n",
    "device = 'cuda' if torch.cuda.is_available() else 'cpu'\n",
    "print (device)\n",
    "\n",
    "seed = 42 # seed 값 설정\n",
    "random.seed(seed) # 파이썬 난수 생성기\n",
    "os.environ['PYTHONHASHSEED'] = str(seed) # 해시 시크릿값 고정\n",
    "np.random.seed(seed) # 넘파이 난수 생성기\n",
    "\n",
    "torch.manual_seed(seed) # 파이토치 CPU 난수 생성기\n",
    "torch.backends.cudnn.deterministic = True # 확정적 연산 사용 설정\n",
    "torch.backends.cudnn.benchmark = False   # 벤치마크 기능 사용 해제\n",
    "torch.backends.cudnn.enabled = False        # cudnn 기능 사용 해제\n",
    "\n",
    "if device == 'cuda':\n",
    "    torch.cuda.manual_seed(seed) # 파이토치 GPU 난수 생성기\n",
    "    torch.cuda.manual_seed_all(seed) # 파이토치 멀티 GPU 난수 생성기"
   ]
  },
  {
   "cell_type": "code",
   "execution_count": 3,
   "id": "05190699",
   "metadata": {
    "colab": {
     "base_uri": "https://localhost:8080/"
    },
    "id": "05190699",
    "outputId": "0443d70f-f2cd-4d98-bd59-bc9e0550d1e1"
   },
   "outputs": [
    {
     "ename": "ModuleNotFoundError",
     "evalue": "No module named 'google.colab'",
     "output_type": "error",
     "traceback": [
      "\u001b[0;31m---------------------------------------------------------------------------\u001b[0m",
      "\u001b[0;31mModuleNotFoundError\u001b[0m                       Traceback (most recent call last)",
      "Cell \u001b[0;32mIn[3], line 1\u001b[0m\n\u001b[0;32m----> 1\u001b[0m \u001b[38;5;28;01mfrom\u001b[39;00m \u001b[38;5;21;01mgoogle\u001b[39;00m\u001b[38;5;21;01m.\u001b[39;00m\u001b[38;5;21;01mcolab\u001b[39;00m \u001b[38;5;28;01mimport\u001b[39;00m drive\n\u001b[1;32m      2\u001b[0m drive\u001b[38;5;241m.\u001b[39mmount(\u001b[38;5;124m'\u001b[39m\u001b[38;5;124m/content/drive\u001b[39m\u001b[38;5;124m'\u001b[39m)\n",
      "\u001b[0;31mModuleNotFoundError\u001b[0m: No module named 'google.colab'"
     ]
    }
   ],
   "source": [
    "from google.colab import drive\n",
    "drive.mount('/content/drive')"
   ]
  },
  {
   "cell_type": "code",
   "execution_count": 4,
   "id": "2cc1c881",
   "metadata": {
    "id": "2cc1c881"
   },
   "outputs": [],
   "source": [
    "train = pd.read_csv('./data/train.csv')\n",
    "test = pd.read_csv('./data/test.csv')"
   ]
  },
  {
   "cell_type": "code",
   "execution_count": 38,
   "id": "9915c913",
   "metadata": {
    "colab": {
     "base_uri": "https://localhost:8080/",
     "height": 424
    },
    "id": "9915c913",
    "outputId": "3bd9b29d-87b0-4d4d-d491-7a928e10d2a7"
   },
   "outputs": [
    {
     "data": {
      "text/html": [
       "<div>\n",
       "<style scoped>\n",
       "    .dataframe tbody tr th:only-of-type {\n",
       "        vertical-align: middle;\n",
       "    }\n",
       "\n",
       "    .dataframe tbody tr th {\n",
       "        vertical-align: top;\n",
       "    }\n",
       "\n",
       "    .dataframe thead th {\n",
       "        text-align: right;\n",
       "    }\n",
       "</style>\n",
       "<table border=\"1\" class=\"dataframe\">\n",
       "  <thead>\n",
       "    <tr style=\"text-align: right;\">\n",
       "      <th></th>\n",
       "      <th>id</th>\n",
       "      <th>SMILES</th>\n",
       "      <th>AlogP</th>\n",
       "      <th>Molecular_Weight</th>\n",
       "      <th>Num_H_Acceptors</th>\n",
       "      <th>Num_H_Donors</th>\n",
       "      <th>Num_RotatableBonds</th>\n",
       "      <th>LogD</th>\n",
       "      <th>Molecular_PolarSurfaceArea</th>\n",
       "      <th>logP</th>\n",
       "      <th>apka</th>\n",
       "      <th>num_rotatable_bonds</th>\n",
       "      <th>num_heteroatoms</th>\n",
       "      <th>num_hydrogen_acceptors</th>\n",
       "      <th>num_hydrogen_donors</th>\n",
       "      <th>morgan_fingerprint</th>\n",
       "    </tr>\n",
       "  </thead>\n",
       "  <tbody>\n",
       "    <tr>\n",
       "      <th>0</th>\n",
       "      <td>TEST_000</td>\n",
       "      <td>CC(C)Nc1ccnc(N2CCN(Cc3cccs3)C(CCO)C2)n1</td>\n",
       "      <td>2.641</td>\n",
       "      <td>361.505</td>\n",
       "      <td>4</td>\n",
       "      <td>2</td>\n",
       "      <td>7</td>\n",
       "      <td>2.635</td>\n",
       "      <td>92.76</td>\n",
       "      <td>2.43160</td>\n",
       "      <td>361.515</td>\n",
       "      <td>7</td>\n",
       "      <td>7</td>\n",
       "      <td>7</td>\n",
       "      <td>2</td>\n",
       "      <td>[0, 0, 0, 0, 0, 0, 0, 0, 0, 0, 0, 0, 0, 0, 0, ...</td>\n",
       "    </tr>\n",
       "    <tr>\n",
       "      <th>1</th>\n",
       "      <td>TEST_001</td>\n",
       "      <td>COc1cc(=O)n(-c2ccccc2)cc1C(=O)N1CCC2(CC1)OCCO2</td>\n",
       "      <td>0.585</td>\n",
       "      <td>370.399</td>\n",
       "      <td>5</td>\n",
       "      <td>0</td>\n",
       "      <td>3</td>\n",
       "      <td>0.585</td>\n",
       "      <td>68.31</td>\n",
       "      <td>1.82520</td>\n",
       "      <td>370.405</td>\n",
       "      <td>3</td>\n",
       "      <td>7</td>\n",
       "      <td>6</td>\n",
       "      <td>0</td>\n",
       "      <td>[0, 0, 0, 0, 0, 0, 0, 0, 0, 0, 0, 0, 0, 0, 0, ...</td>\n",
       "    </tr>\n",
       "    <tr>\n",
       "      <th>2</th>\n",
       "      <td>TEST_002</td>\n",
       "      <td>Cc1cccc(NC(=N)/N=c2\\nc(O)c(Cc3ccccc3)c(C)[nH]2)c1</td>\n",
       "      <td>4.276</td>\n",
       "      <td>347.414</td>\n",
       "      <td>4</td>\n",
       "      <td>4</td>\n",
       "      <td>5</td>\n",
       "      <td>4.290</td>\n",
       "      <td>92.86</td>\n",
       "      <td>3.27051</td>\n",
       "      <td>347.422</td>\n",
       "      <td>3</td>\n",
       "      <td>6</td>\n",
       "      <td>3</td>\n",
       "      <td>4</td>\n",
       "      <td>[0, 0, 0, 0, 0, 0, 0, 0, 0, 0, 0, 0, 0, 0, 0, ...</td>\n",
       "    </tr>\n",
       "    <tr>\n",
       "      <th>3</th>\n",
       "      <td>TEST_003</td>\n",
       "      <td>O=C(c1nc2ncccn2n1)N1CCCn2cc(-c3ccccc3)nc21</td>\n",
       "      <td>1.795</td>\n",
       "      <td>345.358</td>\n",
       "      <td>5</td>\n",
       "      <td>0</td>\n",
       "      <td>2</td>\n",
       "      <td>1.795</td>\n",
       "      <td>81.21</td>\n",
       "      <td>2.03830</td>\n",
       "      <td>345.366</td>\n",
       "      <td>2</td>\n",
       "      <td>8</td>\n",
       "      <td>7</td>\n",
       "      <td>0</td>\n",
       "      <td>[0, 0, 0, 0, 0, 0, 0, 0, 0, 0, 0, 0, 0, 0, 0, ...</td>\n",
       "    </tr>\n",
       "    <tr>\n",
       "      <th>4</th>\n",
       "      <td>TEST_004</td>\n",
       "      <td>CCN1CCN(C(=O)c2cc3c(=O)n4cc(C)ccc4nc3n2C)CC1</td>\n",
       "      <td>1.219</td>\n",
       "      <td>353.418</td>\n",
       "      <td>4</td>\n",
       "      <td>0</td>\n",
       "      <td>2</td>\n",
       "      <td>0.169</td>\n",
       "      <td>61.15</td>\n",
       "      <td>1.27232</td>\n",
       "      <td>353.426</td>\n",
       "      <td>2</td>\n",
       "      <td>7</td>\n",
       "      <td>6</td>\n",
       "      <td>0</td>\n",
       "      <td>[0, 0, 0, 0, 0, 0, 0, 0, 0, 0, 0, 0, 0, 0, 0, ...</td>\n",
       "    </tr>\n",
       "    <tr>\n",
       "      <th>...</th>\n",
       "      <td>...</td>\n",
       "      <td>...</td>\n",
       "      <td>...</td>\n",
       "      <td>...</td>\n",
       "      <td>...</td>\n",
       "      <td>...</td>\n",
       "      <td>...</td>\n",
       "      <td>...</td>\n",
       "      <td>...</td>\n",
       "      <td>...</td>\n",
       "      <td>...</td>\n",
       "      <td>...</td>\n",
       "      <td>...</td>\n",
       "      <td>...</td>\n",
       "      <td>...</td>\n",
       "      <td>...</td>\n",
       "    </tr>\n",
       "    <tr>\n",
       "      <th>478</th>\n",
       "      <td>TEST_478</td>\n",
       "      <td>CCc1noc(CC)c1CC(=O)NCC1(CC)CCCCC1</td>\n",
       "      <td>4.207</td>\n",
       "      <td>306.443</td>\n",
       "      <td>2</td>\n",
       "      <td>1</td>\n",
       "      <td>7</td>\n",
       "      <td>4.207</td>\n",
       "      <td>55.13</td>\n",
       "      <td>3.81860</td>\n",
       "      <td>306.450</td>\n",
       "      <td>7</td>\n",
       "      <td>4</td>\n",
       "      <td>3</td>\n",
       "      <td>1</td>\n",
       "      <td>[0, 0, 1, 0, 0, 0, 0, 0, 0, 0, 0, 0, 0, 0, 0, ...</td>\n",
       "    </tr>\n",
       "    <tr>\n",
       "      <th>479</th>\n",
       "      <td>TEST_479</td>\n",
       "      <td>CC(=O)N1CCC2(CC1)OC(=O)C(C)=C2C(=O)N1CCN(C)CC1</td>\n",
       "      <td>-0.608</td>\n",
       "      <td>335.398</td>\n",
       "      <td>5</td>\n",
       "      <td>0</td>\n",
       "      <td>1</td>\n",
       "      <td>-1.736</td>\n",
       "      <td>70.16</td>\n",
       "      <td>0.01480</td>\n",
       "      <td>335.404</td>\n",
       "      <td>1</td>\n",
       "      <td>7</td>\n",
       "      <td>5</td>\n",
       "      <td>0</td>\n",
       "      <td>[0, 0, 0, 0, 0, 0, 0, 0, 0, 0, 0, 0, 0, 0, 2, ...</td>\n",
       "    </tr>\n",
       "    <tr>\n",
       "      <th>480</th>\n",
       "      <td>TEST_480</td>\n",
       "      <td>CC(C)NC(=O)CN1C(=O)c2ccccc2N2C(=O)c3ccccc3C12</td>\n",
       "      <td>1.792</td>\n",
       "      <td>349.383</td>\n",
       "      <td>3</td>\n",
       "      <td>1</td>\n",
       "      <td>3</td>\n",
       "      <td>1.792</td>\n",
       "      <td>69.72</td>\n",
       "      <td>2.32600</td>\n",
       "      <td>349.390</td>\n",
       "      <td>3</td>\n",
       "      <td>6</td>\n",
       "      <td>3</td>\n",
       "      <td>1</td>\n",
       "      <td>[0, 0, 0, 0, 0, 0, 1, 0, 0, 0, 0, 0, 0, 0, 0, ...</td>\n",
       "    </tr>\n",
       "    <tr>\n",
       "      <th>481</th>\n",
       "      <td>TEST_481</td>\n",
       "      <td>Cn1cc(Br)c(=O)c(NC(=O)c2ccc(O)cc2F)c1</td>\n",
       "      <td>0.790</td>\n",
       "      <td>341.132</td>\n",
       "      <td>3</td>\n",
       "      <td>2</td>\n",
       "      <td>2</td>\n",
       "      <td>0.423</td>\n",
       "      <td>69.64</td>\n",
       "      <td>2.24480</td>\n",
       "      <td>341.136</td>\n",
       "      <td>2</td>\n",
       "      <td>7</td>\n",
       "      <td>4</td>\n",
       "      <td>2</td>\n",
       "      <td>[0, 0, 0, 0, 0, 0, 0, 0, 0, 0, 0, 0, 0, 0, 0, ...</td>\n",
       "    </tr>\n",
       "    <tr>\n",
       "      <th>482</th>\n",
       "      <td>TEST_482</td>\n",
       "      <td>CC(C)C(CCN1CCN(C)CC1)c1ccco1</td>\n",
       "      <td>2.782</td>\n",
       "      <td>250.380</td>\n",
       "      <td>2</td>\n",
       "      <td>0</td>\n",
       "      <td>5</td>\n",
       "      <td>0.606</td>\n",
       "      <td>19.62</td>\n",
       "      <td>2.65670</td>\n",
       "      <td>250.386</td>\n",
       "      <td>5</td>\n",
       "      <td>3</td>\n",
       "      <td>3</td>\n",
       "      <td>0</td>\n",
       "      <td>[0, 0, 0, 0, 0, 0, 0, 0, 0, 0, 0, 0, 0, 0, 2, ...</td>\n",
       "    </tr>\n",
       "  </tbody>\n",
       "</table>\n",
       "<p>483 rows × 16 columns</p>\n",
       "</div>"
      ],
      "text/plain": [
       "           id                                             SMILES  AlogP  \\\n",
       "0    TEST_000            CC(C)Nc1ccnc(N2CCN(Cc3cccs3)C(CCO)C2)n1  2.641   \n",
       "1    TEST_001     COc1cc(=O)n(-c2ccccc2)cc1C(=O)N1CCC2(CC1)OCCO2  0.585   \n",
       "2    TEST_002  Cc1cccc(NC(=N)/N=c2\\nc(O)c(Cc3ccccc3)c(C)[nH]2)c1  4.276   \n",
       "3    TEST_003         O=C(c1nc2ncccn2n1)N1CCCn2cc(-c3ccccc3)nc21  1.795   \n",
       "4    TEST_004       CCN1CCN(C(=O)c2cc3c(=O)n4cc(C)ccc4nc3n2C)CC1  1.219   \n",
       "..        ...                                                ...    ...   \n",
       "478  TEST_478                  CCc1noc(CC)c1CC(=O)NCC1(CC)CCCCC1  4.207   \n",
       "479  TEST_479     CC(=O)N1CCC2(CC1)OC(=O)C(C)=C2C(=O)N1CCN(C)CC1 -0.608   \n",
       "480  TEST_480      CC(C)NC(=O)CN1C(=O)c2ccccc2N2C(=O)c3ccccc3C12  1.792   \n",
       "481  TEST_481              Cn1cc(Br)c(=O)c(NC(=O)c2ccc(O)cc2F)c1  0.790   \n",
       "482  TEST_482                       CC(C)C(CCN1CCN(C)CC1)c1ccco1  2.782   \n",
       "\n",
       "     Molecular_Weight  Num_H_Acceptors  Num_H_Donors  Num_RotatableBonds  \\\n",
       "0             361.505                4             2                   7   \n",
       "1             370.399                5             0                   3   \n",
       "2             347.414                4             4                   5   \n",
       "3             345.358                5             0                   2   \n",
       "4             353.418                4             0                   2   \n",
       "..                ...              ...           ...                 ...   \n",
       "478           306.443                2             1                   7   \n",
       "479           335.398                5             0                   1   \n",
       "480           349.383                3             1                   3   \n",
       "481           341.132                3             2                   2   \n",
       "482           250.380                2             0                   5   \n",
       "\n",
       "      LogD  Molecular_PolarSurfaceArea     logP     apka  num_rotatable_bonds  \\\n",
       "0    2.635                       92.76  2.43160  361.515                    7   \n",
       "1    0.585                       68.31  1.82520  370.405                    3   \n",
       "2    4.290                       92.86  3.27051  347.422                    3   \n",
       "3    1.795                       81.21  2.03830  345.366                    2   \n",
       "4    0.169                       61.15  1.27232  353.426                    2   \n",
       "..     ...                         ...      ...      ...                  ...   \n",
       "478  4.207                       55.13  3.81860  306.450                    7   \n",
       "479 -1.736                       70.16  0.01480  335.404                    1   \n",
       "480  1.792                       69.72  2.32600  349.390                    3   \n",
       "481  0.423                       69.64  2.24480  341.136                    2   \n",
       "482  0.606                       19.62  2.65670  250.386                    5   \n",
       "\n",
       "     num_heteroatoms  num_hydrogen_acceptors  num_hydrogen_donors  \\\n",
       "0                  7                       7                    2   \n",
       "1                  7                       6                    0   \n",
       "2                  6                       3                    4   \n",
       "3                  8                       7                    0   \n",
       "4                  7                       6                    0   \n",
       "..               ...                     ...                  ...   \n",
       "478                4                       3                    1   \n",
       "479                7                       5                    0   \n",
       "480                6                       3                    1   \n",
       "481                7                       4                    2   \n",
       "482                3                       3                    0   \n",
       "\n",
       "                                    morgan_fingerprint  \n",
       "0    [0, 0, 0, 0, 0, 0, 0, 0, 0, 0, 0, 0, 0, 0, 0, ...  \n",
       "1    [0, 0, 0, 0, 0, 0, 0, 0, 0, 0, 0, 0, 0, 0, 0, ...  \n",
       "2    [0, 0, 0, 0, 0, 0, 0, 0, 0, 0, 0, 0, 0, 0, 0, ...  \n",
       "3    [0, 0, 0, 0, 0, 0, 0, 0, 0, 0, 0, 0, 0, 0, 0, ...  \n",
       "4    [0, 0, 0, 0, 0, 0, 0, 0, 0, 0, 0, 0, 0, 0, 0, ...  \n",
       "..                                                 ...  \n",
       "478  [0, 0, 1, 0, 0, 0, 0, 0, 0, 0, 0, 0, 0, 0, 0, ...  \n",
       "479  [0, 0, 0, 0, 0, 0, 0, 0, 0, 0, 0, 0, 0, 0, 2, ...  \n",
       "480  [0, 0, 0, 0, 0, 0, 1, 0, 0, 0, 0, 0, 0, 0, 0, ...  \n",
       "481  [0, 0, 0, 0, 0, 0, 0, 0, 0, 0, 0, 0, 0, 0, 0, ...  \n",
       "482  [0, 0, 0, 0, 0, 0, 0, 0, 0, 0, 0, 0, 0, 0, 2, ...  \n",
       "\n",
       "[483 rows x 16 columns]"
      ]
     },
     "execution_count": 38,
     "metadata": {},
     "output_type": "execute_result"
    }
   ],
   "source": [
    "test"
   ]
  },
  {
   "cell_type": "code",
   "execution_count": 6,
   "id": "50578fa3",
   "metadata": {
    "colab": {
     "base_uri": "https://localhost:8080/"
    },
    "id": "50578fa3",
    "outputId": "ae58dfe8-8fb6-4f93-e7bd-f2c9b17d1156"
   },
   "outputs": [
    {
     "name": "stdout",
     "output_type": "stream",
     "text": [
      "Requirement already satisfied: rdkit-pypi in /opt/homebrew/anaconda3/lib/python3.10/site-packages (2022.9.5)\r\n",
      "Requirement already satisfied: numpy in /opt/homebrew/anaconda3/lib/python3.10/site-packages (from rdkit-pypi) (1.23.5)\r\n",
      "Requirement already satisfied: Pillow in /opt/homebrew/anaconda3/lib/python3.10/site-packages (from rdkit-pypi) (9.4.0)\r\n"
     ]
    }
   ],
   "source": [
    "!pip install rdkit-pypi"
   ]
  },
  {
   "cell_type": "code",
   "execution_count": 7,
   "id": "YAknebjsIZnB",
   "metadata": {
    "colab": {
     "base_uri": "https://localhost:8080/"
    },
    "id": "YAknebjsIZnB",
    "outputId": "5b489a9a-d64b-49cf-eda8-b8126e3679b1"
   },
   "outputs": [
    {
     "name": "stdout",
     "output_type": "stream",
     "text": [
      "Requirement already satisfied: lightgbm in /opt/homebrew/anaconda3/lib/python3.10/site-packages (3.3.5)\r\n",
      "Requirement already satisfied: numpy in /opt/homebrew/anaconda3/lib/python3.10/site-packages (from lightgbm) (1.23.5)\r\n",
      "Requirement already satisfied: scipy in /opt/homebrew/anaconda3/lib/python3.10/site-packages (from lightgbm) (1.10.0)\r\n",
      "Requirement already satisfied: wheel in /opt/homebrew/anaconda3/lib/python3.10/site-packages (from lightgbm) (0.38.4)\r\n",
      "Requirement already satisfied: scikit-learn!=0.22.0 in /opt/homebrew/anaconda3/lib/python3.10/site-packages (from lightgbm) (1.2.1)\r\n",
      "Requirement already satisfied: threadpoolctl>=2.0.0 in /opt/homebrew/anaconda3/lib/python3.10/site-packages (from scikit-learn!=0.22.0->lightgbm) (2.2.0)\r\n",
      "Requirement already satisfied: joblib>=1.1.1 in /opt/homebrew/anaconda3/lib/python3.10/site-packages (from scikit-learn!=0.22.0->lightgbm) (1.1.1)\r\n"
     ]
    }
   ],
   "source": [
    "!pip install lightgbm"
   ]
  },
  {
   "cell_type": "code",
   "execution_count": 8,
   "id": "dfDPfwiUIdvW",
   "metadata": {
    "colab": {
     "base_uri": "https://localhost:8080/"
    },
    "id": "dfDPfwiUIdvW",
    "outputId": "79daf9c9-4ffb-42c2-99ba-18d37df1a710"
   },
   "outputs": [
    {
     "name": "stdout",
     "output_type": "stream",
     "text": [
      "Requirement already satisfied: xgboost in /opt/homebrew/anaconda3/lib/python3.10/site-packages (1.7.6)\r\n",
      "Requirement already satisfied: numpy in /opt/homebrew/anaconda3/lib/python3.10/site-packages (from xgboost) (1.23.5)\r\n",
      "Requirement already satisfied: scipy in /opt/homebrew/anaconda3/lib/python3.10/site-packages (from xgboost) (1.10.0)\r\n"
     ]
    }
   ],
   "source": [
    "!pip install xgboost"
   ]
  },
  {
   "cell_type": "code",
   "execution_count": 9,
   "id": "26b73baf",
   "metadata": {
    "colab": {
     "base_uri": "https://localhost:8080/",
     "height": 617
    },
    "id": "26b73baf",
    "outputId": "cb8ff2dd-9ac8-48c4-8e9c-877e8f7bb67c"
   },
   "outputs": [
    {
     "data": {
      "text/html": [
       "<div>\n",
       "<style scoped>\n",
       "    .dataframe tbody tr th:only-of-type {\n",
       "        vertical-align: middle;\n",
       "    }\n",
       "\n",
       "    .dataframe tbody tr th {\n",
       "        vertical-align: top;\n",
       "    }\n",
       "\n",
       "    .dataframe thead th {\n",
       "        text-align: right;\n",
       "    }\n",
       "</style>\n",
       "<table border=\"1\" class=\"dataframe\">\n",
       "  <thead>\n",
       "    <tr style=\"text-align: right;\">\n",
       "      <th></th>\n",
       "      <th>id</th>\n",
       "      <th>SMILES</th>\n",
       "      <th>MLM</th>\n",
       "      <th>HLM</th>\n",
       "      <th>AlogP</th>\n",
       "      <th>Molecular_Weight</th>\n",
       "      <th>Num_H_Acceptors</th>\n",
       "      <th>Num_H_Donors</th>\n",
       "      <th>Num_RotatableBonds</th>\n",
       "      <th>LogD</th>\n",
       "      <th>Molecular_PolarSurfaceArea</th>\n",
       "      <th>logP</th>\n",
       "      <th>apka</th>\n",
       "      <th>num_rotatable_bonds</th>\n",
       "      <th>num_heteroatoms</th>\n",
       "      <th>num_hydrogen_acceptors</th>\n",
       "      <th>num_hydrogen_donors</th>\n",
       "      <th>morgan_fingerprint</th>\n",
       "    </tr>\n",
       "  </thead>\n",
       "  <tbody>\n",
       "    <tr>\n",
       "      <th>0</th>\n",
       "      <td>TRAIN_0000</td>\n",
       "      <td>CCOc1ccc(CNC(=O)c2cc(-c3sc(C)nc3C)n[nH]2)cc1OCC</td>\n",
       "      <td>26.010</td>\n",
       "      <td>50.680</td>\n",
       "      <td>3.259</td>\n",
       "      <td>400.495</td>\n",
       "      <td>5</td>\n",
       "      <td>2</td>\n",
       "      <td>8</td>\n",
       "      <td>3.259</td>\n",
       "      <td>117.37</td>\n",
       "      <td>3.87744</td>\n",
       "      <td>400.504</td>\n",
       "      <td>8</td>\n",
       "      <td>8</td>\n",
       "      <td>6</td>\n",
       "      <td>2</td>\n",
       "      <td>[0, 0, 0, 0, 0, 0, 0, 0, 0, 0, 0, 0, 0, 0, 0, ...</td>\n",
       "    </tr>\n",
       "    <tr>\n",
       "      <th>1</th>\n",
       "      <td>TRAIN_0001</td>\n",
       "      <td>Cc1nc(C)c(CN2CC(C)C(=O)Nc3ccccc32)s1</td>\n",
       "      <td>29.270</td>\n",
       "      <td>50.590</td>\n",
       "      <td>2.169</td>\n",
       "      <td>301.407</td>\n",
       "      <td>2</td>\n",
       "      <td>1</td>\n",
       "      <td>2</td>\n",
       "      <td>2.172</td>\n",
       "      <td>73.47</td>\n",
       "      <td>3.35474</td>\n",
       "      <td>301.415</td>\n",
       "      <td>2</td>\n",
       "      <td>5</td>\n",
       "      <td>4</td>\n",
       "      <td>1</td>\n",
       "      <td>[0, 0, 0, 0, 0, 0, 0, 0, 0, 0, 0, 0, 0, 0, 0, ...</td>\n",
       "    </tr>\n",
       "    <tr>\n",
       "      <th>2</th>\n",
       "      <td>TRAIN_0002</td>\n",
       "      <td>CCCN1CCN(c2nn3nnnc3c3ccccc23)CC1</td>\n",
       "      <td>5.586</td>\n",
       "      <td>80.892</td>\n",
       "      <td>1.593</td>\n",
       "      <td>297.358</td>\n",
       "      <td>5</td>\n",
       "      <td>0</td>\n",
       "      <td>3</td>\n",
       "      <td>1.585</td>\n",
       "      <td>62.45</td>\n",
       "      <td>1.20450</td>\n",
       "      <td>297.366</td>\n",
       "      <td>3</td>\n",
       "      <td>7</td>\n",
       "      <td>7</td>\n",
       "      <td>0</td>\n",
       "      <td>[0, 0, 0, 0, 0, 0, 0, 0, 0, 0, 0, 0, 0, 0, 0, ...</td>\n",
       "    </tr>\n",
       "    <tr>\n",
       "      <th>3</th>\n",
       "      <td>TRAIN_0003</td>\n",
       "      <td>Cc1ccc(-c2ccc(-n3nc(C)c(S(=O)(=O)N4CCN(C5CCCCC...</td>\n",
       "      <td>5.710</td>\n",
       "      <td>2.000</td>\n",
       "      <td>4.771</td>\n",
       "      <td>494.652</td>\n",
       "      <td>6</td>\n",
       "      <td>0</td>\n",
       "      <td>5</td>\n",
       "      <td>3.475</td>\n",
       "      <td>92.60</td>\n",
       "      <td>3.89356</td>\n",
       "      <td>494.665</td>\n",
       "      <td>5</td>\n",
       "      <td>9</td>\n",
       "      <td>7</td>\n",
       "      <td>0</td>\n",
       "      <td>[0, 0, 1, 0, 0, 0, 0, 0, 0, 0, 0, 0, 0, 0, 0, ...</td>\n",
       "    </tr>\n",
       "    <tr>\n",
       "      <th>4</th>\n",
       "      <td>TRAIN_0004</td>\n",
       "      <td>Cc1ccc2c(c1)N(C(=O)c1ccncc1)CC(C)O2</td>\n",
       "      <td>93.270</td>\n",
       "      <td>99.990</td>\n",
       "      <td>2.335</td>\n",
       "      <td>268.310</td>\n",
       "      <td>3</td>\n",
       "      <td>0</td>\n",
       "      <td>1</td>\n",
       "      <td>2.337</td>\n",
       "      <td>42.43</td>\n",
       "      <td>2.81772</td>\n",
       "      <td>268.316</td>\n",
       "      <td>1</td>\n",
       "      <td>4</td>\n",
       "      <td>3</td>\n",
       "      <td>0</td>\n",
       "      <td>[0, 0, 0, 0, 0, 0, 0, 0, 0, 0, 0, 0, 0, 0, 0, ...</td>\n",
       "    </tr>\n",
       "    <tr>\n",
       "      <th>...</th>\n",
       "      <td>...</td>\n",
       "      <td>...</td>\n",
       "      <td>...</td>\n",
       "      <td>...</td>\n",
       "      <td>...</td>\n",
       "      <td>...</td>\n",
       "      <td>...</td>\n",
       "      <td>...</td>\n",
       "      <td>...</td>\n",
       "      <td>...</td>\n",
       "      <td>...</td>\n",
       "      <td>...</td>\n",
       "      <td>...</td>\n",
       "      <td>...</td>\n",
       "      <td>...</td>\n",
       "      <td>...</td>\n",
       "      <td>...</td>\n",
       "      <td>...</td>\n",
       "    </tr>\n",
       "    <tr>\n",
       "      <th>3493</th>\n",
       "      <td>TRAIN_3493</td>\n",
       "      <td>Cn1nc(CNC(=O)Cn2nc(C(F)(F)F)c3c2CCC3)c(Cl)c1Cl</td>\n",
       "      <td>1.556</td>\n",
       "      <td>3.079</td>\n",
       "      <td>3.409</td>\n",
       "      <td>396.195</td>\n",
       "      <td>3</td>\n",
       "      <td>1</td>\n",
       "      <td>5</td>\n",
       "      <td>3.409</td>\n",
       "      <td>64.74</td>\n",
       "      <td>2.74730</td>\n",
       "      <td>396.200</td>\n",
       "      <td>4</td>\n",
       "      <td>11</td>\n",
       "      <td>5</td>\n",
       "      <td>1</td>\n",
       "      <td>[0, 0, 0, 0, 0, 0, 0, 0, 0, 0, 0, 0, 0, 0, 0, ...</td>\n",
       "    </tr>\n",
       "    <tr>\n",
       "      <th>3494</th>\n",
       "      <td>TRAIN_3494</td>\n",
       "      <td>CCn1[nH]cc/c1=N\\C(=O)c1nn(-c2ccccc2)c(=O)c2ccc...</td>\n",
       "      <td>35.560</td>\n",
       "      <td>47.630</td>\n",
       "      <td>1.912</td>\n",
       "      <td>359.381</td>\n",
       "      <td>4</td>\n",
       "      <td>1</td>\n",
       "      <td>3</td>\n",
       "      <td>1.844</td>\n",
       "      <td>77.37</td>\n",
       "      <td>2.27630</td>\n",
       "      <td>359.389</td>\n",
       "      <td>3</td>\n",
       "      <td>7</td>\n",
       "      <td>5</td>\n",
       "      <td>1</td>\n",
       "      <td>[0, 0, 0, 0, 0, 0, 0, 0, 0, 0, 0, 0, 0, 0, 0, ...</td>\n",
       "    </tr>\n",
       "    <tr>\n",
       "      <th>3495</th>\n",
       "      <td>TRAIN_3495</td>\n",
       "      <td>CCOC(=O)CCCc1nc2cc(N)ccc2n1C</td>\n",
       "      <td>56.150</td>\n",
       "      <td>1.790</td>\n",
       "      <td>1.941</td>\n",
       "      <td>261.320</td>\n",
       "      <td>3</td>\n",
       "      <td>1</td>\n",
       "      <td>6</td>\n",
       "      <td>2.124</td>\n",
       "      <td>70.14</td>\n",
       "      <td>2.04130</td>\n",
       "      <td>261.325</td>\n",
       "      <td>5</td>\n",
       "      <td>5</td>\n",
       "      <td>5</td>\n",
       "      <td>1</td>\n",
       "      <td>[1, 0, 0, 0, 0, 0, 0, 0, 0, 0, 0, 0, 0, 0, 0, ...</td>\n",
       "    </tr>\n",
       "    <tr>\n",
       "      <th>3496</th>\n",
       "      <td>TRAIN_3496</td>\n",
       "      <td>Nc1cc(C(=O)OCCC2CCOC2=O)cnc1Cl</td>\n",
       "      <td>0.030</td>\n",
       "      <td>2.770</td>\n",
       "      <td>0.989</td>\n",
       "      <td>284.696</td>\n",
       "      <td>5</td>\n",
       "      <td>1</td>\n",
       "      <td>5</td>\n",
       "      <td>0.989</td>\n",
       "      <td>91.51</td>\n",
       "      <td>1.42720</td>\n",
       "      <td>284.699</td>\n",
       "      <td>4</td>\n",
       "      <td>7</td>\n",
       "      <td>6</td>\n",
       "      <td>1</td>\n",
       "      <td>[0, 0, 0, 0, 0, 0, 0, 0, 0, 0, 0, 0, 0, 1, 0, ...</td>\n",
       "    </tr>\n",
       "    <tr>\n",
       "      <th>3497</th>\n",
       "      <td>TRAIN_3497</td>\n",
       "      <td>COc1ccc(-c2nc(Cc3ccccc3)sc2C)cc1</td>\n",
       "      <td>0.450</td>\n",
       "      <td>2.650</td>\n",
       "      <td>4.321</td>\n",
       "      <td>295.399</td>\n",
       "      <td>2</td>\n",
       "      <td>0</td>\n",
       "      <td>4</td>\n",
       "      <td>4.321</td>\n",
       "      <td>50.36</td>\n",
       "      <td>4.71792</td>\n",
       "      <td>295.407</td>\n",
       "      <td>4</td>\n",
       "      <td>3</td>\n",
       "      <td>3</td>\n",
       "      <td>0</td>\n",
       "      <td>[0, 0, 0, 0, 0, 0, 0, 0, 0, 0, 0, 0, 0, 0, 0, ...</td>\n",
       "    </tr>\n",
       "  </tbody>\n",
       "</table>\n",
       "<p>3498 rows × 18 columns</p>\n",
       "</div>"
      ],
      "text/plain": [
       "              id                                             SMILES     MLM  \\\n",
       "0     TRAIN_0000    CCOc1ccc(CNC(=O)c2cc(-c3sc(C)nc3C)n[nH]2)cc1OCC  26.010   \n",
       "1     TRAIN_0001               Cc1nc(C)c(CN2CC(C)C(=O)Nc3ccccc32)s1  29.270   \n",
       "2     TRAIN_0002                   CCCN1CCN(c2nn3nnnc3c3ccccc23)CC1   5.586   \n",
       "3     TRAIN_0003  Cc1ccc(-c2ccc(-n3nc(C)c(S(=O)(=O)N4CCN(C5CCCCC...   5.710   \n",
       "4     TRAIN_0004                Cc1ccc2c(c1)N(C(=O)c1ccncc1)CC(C)O2  93.270   \n",
       "...          ...                                                ...     ...   \n",
       "3493  TRAIN_3493     Cn1nc(CNC(=O)Cn2nc(C(F)(F)F)c3c2CCC3)c(Cl)c1Cl   1.556   \n",
       "3494  TRAIN_3494  CCn1[nH]cc/c1=N\\C(=O)c1nn(-c2ccccc2)c(=O)c2ccc...  35.560   \n",
       "3495  TRAIN_3495                       CCOC(=O)CCCc1nc2cc(N)ccc2n1C  56.150   \n",
       "3496  TRAIN_3496                     Nc1cc(C(=O)OCCC2CCOC2=O)cnc1Cl   0.030   \n",
       "3497  TRAIN_3497                   COc1ccc(-c2nc(Cc3ccccc3)sc2C)cc1   0.450   \n",
       "\n",
       "         HLM  AlogP  Molecular_Weight  Num_H_Acceptors  Num_H_Donors  \\\n",
       "0     50.680  3.259           400.495                5             2   \n",
       "1     50.590  2.169           301.407                2             1   \n",
       "2     80.892  1.593           297.358                5             0   \n",
       "3      2.000  4.771           494.652                6             0   \n",
       "4     99.990  2.335           268.310                3             0   \n",
       "...      ...    ...               ...              ...           ...   \n",
       "3493   3.079  3.409           396.195                3             1   \n",
       "3494  47.630  1.912           359.381                4             1   \n",
       "3495   1.790  1.941           261.320                3             1   \n",
       "3496   2.770  0.989           284.696                5             1   \n",
       "3497   2.650  4.321           295.399                2             0   \n",
       "\n",
       "      Num_RotatableBonds   LogD  Molecular_PolarSurfaceArea     logP     apka  \\\n",
       "0                      8  3.259                      117.37  3.87744  400.504   \n",
       "1                      2  2.172                       73.47  3.35474  301.415   \n",
       "2                      3  1.585                       62.45  1.20450  297.366   \n",
       "3                      5  3.475                       92.60  3.89356  494.665   \n",
       "4                      1  2.337                       42.43  2.81772  268.316   \n",
       "...                  ...    ...                         ...      ...      ...   \n",
       "3493                   5  3.409                       64.74  2.74730  396.200   \n",
       "3494                   3  1.844                       77.37  2.27630  359.389   \n",
       "3495                   6  2.124                       70.14  2.04130  261.325   \n",
       "3496                   5  0.989                       91.51  1.42720  284.699   \n",
       "3497                   4  4.321                       50.36  4.71792  295.407   \n",
       "\n",
       "      num_rotatable_bonds  num_heteroatoms  num_hydrogen_acceptors  \\\n",
       "0                       8                8                       6   \n",
       "1                       2                5                       4   \n",
       "2                       3                7                       7   \n",
       "3                       5                9                       7   \n",
       "4                       1                4                       3   \n",
       "...                   ...              ...                     ...   \n",
       "3493                    4               11                       5   \n",
       "3494                    3                7                       5   \n",
       "3495                    5                5                       5   \n",
       "3496                    4                7                       6   \n",
       "3497                    4                3                       3   \n",
       "\n",
       "      num_hydrogen_donors                                 morgan_fingerprint  \n",
       "0                       2  [0, 0, 0, 0, 0, 0, 0, 0, 0, 0, 0, 0, 0, 0, 0, ...  \n",
       "1                       1  [0, 0, 0, 0, 0, 0, 0, 0, 0, 0, 0, 0, 0, 0, 0, ...  \n",
       "2                       0  [0, 0, 0, 0, 0, 0, 0, 0, 0, 0, 0, 0, 0, 0, 0, ...  \n",
       "3                       0  [0, 0, 1, 0, 0, 0, 0, 0, 0, 0, 0, 0, 0, 0, 0, ...  \n",
       "4                       0  [0, 0, 0, 0, 0, 0, 0, 0, 0, 0, 0, 0, 0, 0, 0, ...  \n",
       "...                   ...                                                ...  \n",
       "3493                    1  [0, 0, 0, 0, 0, 0, 0, 0, 0, 0, 0, 0, 0, 0, 0, ...  \n",
       "3494                    1  [0, 0, 0, 0, 0, 0, 0, 0, 0, 0, 0, 0, 0, 0, 0, ...  \n",
       "3495                    1  [1, 0, 0, 0, 0, 0, 0, 0, 0, 0, 0, 0, 0, 0, 0, ...  \n",
       "3496                    1  [0, 0, 0, 0, 0, 0, 0, 0, 0, 0, 0, 0, 0, 1, 0, ...  \n",
       "3497                    0  [0, 0, 0, 0, 0, 0, 0, 0, 0, 0, 0, 0, 0, 0, 0, ...  \n",
       "\n",
       "[3498 rows x 18 columns]"
      ]
     },
     "execution_count": 9,
     "metadata": {},
     "output_type": "execute_result"
    }
   ],
   "source": [
    "import pandas as pd\n",
    "import numpy as np\n",
    "from rdkit import Chem, DataStructs\n",
    "from rdkit.Chem import AllChem, Descriptors\n",
    "\n",
    "def calculate_metabolic_stability_descriptors(smiles):\n",
    "    mol = Chem.MolFromSmiles(smiles)\n",
    "    logP = Descriptors.MolLogP(mol)\n",
    "    # 화합물의 친유성을 측정한 것으로 지질 또는 비극성 환경에서의 용해도를 나타냅니다. 생물학적 막을 통과하는 화합물의 능력을 반영합니다.\n",
    "    apka = Descriptors.MolWt(mol)\n",
    "    # 화합물의 산 해리 상수의 추정치로 다양한 pH 조건에서 이온화 거동에 대한 정보를 제공합니다.\n",
    "    num_rotatable_bonds = Descriptors.NumRotatableBonds(mol)\n",
    "    # 화합물에서 회전 가능한 결합의 수입니다. 이것은 화합물의 유연성과 효소 또는 다른 분자와의 잠재적인 상호 작용에 대한 통찰력을 제공할 수 있습니다.\n",
    "    num_heteroatoms = Descriptors.NumHeteroatoms(mol)\n",
    "    # 분자 내 헤테로원자(탄소 및 수소 이외의 원자) 수. 이는 화합물의 반응성과 대사 안정성에 영향을 줄 수 있습니다.\n",
    "    num_hydrogen_acceptors = Descriptors.NumHAcceptors(mol)\n",
    "    # 분자 내 수소 결합 수용체의 수. 이들은 결합 및 반응성에 영향을 미치는 다른 분자의 수소 결합 기증자와 상호 작용할 수 있는 사이트입니다.\n",
    "    num_hydrogen_donors = Descriptors.NumHDonors(mol)\n",
    "    # 분자 내 수소 결합 기증자의 수입니다. 이들은 수소 결합 상호작용에서 수소 원자를 제공할 수 있는 사이트입니다.\n",
    "    # morgan_fingerprint = AllChem.GetMorganFingerprintAsBitVect(mol, 2, nBits=2048)\n",
    "    morgan_fingerprint = AllChem.GetHashedMorganFingerprint(mol, 6, nBits=4096)\n",
    "    # 분자 하위 구조의 이진 벡터 표현입니다. 이 열에는 화합물과 효소의 상호 작용 및 대사 안정성에 영향을 줄 수 있는 구조적 특징을 포착하는 이진 지문이 포함되어 있습니다.\n",
    "    morgan_array = np.zeros((1,), dtype=np.int8)\n",
    "    DataStructs.ConvertToNumpyArray(morgan_fingerprint, morgan_array)\n",
    "\n",
    "    return logP, apka, num_rotatable_bonds, num_heteroatoms, num_hydrogen_acceptors, num_hydrogen_donors, morgan_array\n",
    "\n",
    "train[[\n",
    "    'logP', 'apka', 'num_rotatable_bonds', 'num_heteroatoms',\n",
    "    'num_hydrogen_acceptors', 'num_hydrogen_donors', 'morgan_fingerprint'\n",
    "]] = train['SMILES'].apply(calculate_metabolic_stability_descriptors).apply(pd.Series)\n",
    "\n",
    "test[[\n",
    "    'logP', 'apka', 'num_rotatable_bonds', 'num_heteroatoms',\n",
    "    'num_hydrogen_acceptors', 'num_hydrogen_donors', 'morgan_fingerprint'\n",
    "]] = test['SMILES'].apply(calculate_metabolic_stability_descriptors).apply(pd.Series)\n",
    "\n",
    "train\n"
   ]
  },
  {
   "cell_type": "code",
   "execution_count": 10,
   "id": "327572d2",
   "metadata": {
    "id": "327572d2"
   },
   "outputs": [],
   "source": [
    "train['AlogP'].fillna(train['AlogP'].median(), inplace=True)\n",
    "test['AlogP'].fillna(test['AlogP'].median(), inplace=True)"
   ]
  },
  {
   "cell_type": "code",
   "execution_count": 11,
   "id": "1b4142d8",
   "metadata": {
    "id": "1b4142d8"
   },
   "outputs": [],
   "source": [
    "class CustomDataset(Dataset):\n",
    "    def __init__(self, data, target_col=None, transform=None, is_test=False):\n",
    "        self.is_test = is_test\n",
    "        self.transform = transform\n",
    "        self.is_test = is_test\n",
    "\n",
    "        if not self.is_test:\n",
    "            self.data = self.transform.fit_transform(np.stack(data['morgan_fingerprint']))\n",
    "        else: # test\n",
    "            self.data = self.transform.transform(np.stack(data['morgan_fingerprint']))\n",
    "\n",
    "        if target_col is not None and not self.is_test:\n",
    "            self.target = data[target_col]\n",
    "\n",
    "    def __getitem__(self, index):\n",
    "        features = self.data[index]\n",
    "\n",
    "        if hasattr(self, 'target'):\n",
    "            target = self.target[index]\n",
    "            return torch.tensor(features).to(device).float(), torch.tensor(target).to(device).float().unsqueeze(dim=-1)\n",
    "        else:\n",
    "            return torch.tensor(features).to(device).float()\n",
    "\n",
    "    def __len__(self):\n",
    "        return len(self.data)\n"
   ]
  },
  {
   "cell_type": "code",
   "execution_count": 12,
   "id": "fd4677c4",
   "metadata": {
    "colab": {
     "base_uri": "https://localhost:8080/"
    },
    "id": "fd4677c4",
    "outputId": "e3d14888-c249-4264-c140-168274669d44"
   },
   "outputs": [
    {
     "data": {
      "text/plain": [
       "251"
      ]
     },
     "execution_count": 12,
     "metadata": {},
     "output_type": "execute_result"
    }
   ],
   "source": [
    "transform = VarianceThreshold(threshold=0.05)\n",
    "\n",
    "train_MLM = CustomDataset(train, target_col='MLM', transform=transform, is_test=False)\n",
    "train_HLM = CustomDataset(train, target_col='HLM', transform=transform, is_test=False)"
   ]
  },
  {
   "cell_type": "code",
   "execution_count": 36,
   "id": "e97e0190",
   "metadata": {
    "colab": {
     "base_uri": "https://localhost:8080/"
    },
    "id": "e97e0190",
    "outputId": "a693b0c8-851c-4330-d4d3-2ca3cfa3804c"
   },
   "outputs": [
    {
     "data": {
      "text/plain": [
       "3498"
      ]
     },
     "execution_count": 36,
     "metadata": {},
     "output_type": "execute_result"
    }
   ],
   "source": [
    "len(train_HLM.target)"
   ]
  },
  {
   "cell_type": "markdown",
   "id": "GxV8gpkSMopX",
   "metadata": {
    "id": "GxV8gpkSMopX"
   },
   "source": [
    "### 디폴트 테스트\n",
    "> 하이퍼 파라미터 튜닝을 통해 각 머신러닝 모델을 보다 최적화할 수 있지만, 우선 디폴트값으로 바로 예측 가능"
   ]
  },
  {
   "cell_type": "code",
   "execution_count": 14,
   "id": "OtUBtxwOIovk",
   "metadata": {
    "colab": {
     "base_uri": "https://localhost:8080/"
    },
    "id": "OtUBtxwOIovk",
    "outputId": "1b4e6d2c-896d-42a3-e654-4e04e61a8097"
   },
   "outputs": [],
   "source": [
    "import numpy as np # 각 모델에서 내부적으로 관련 라이브러리 사용 가능\n",
    "import pandas as pd\n",
    "\n",
    "from sklearn.model_selection import KFold\n",
    "from sklearn.model_selection import cross_val_score\n",
    "\n",
    "from sklearn.neighbors import KNeighborsRegressor\n",
    "from sklearn.linear_model import LogisticRegression\n",
    "from sklearn.linear_model import LinearRegression\n",
    "from sklearn.svm import SVR\n",
    "from sklearn.tree import DecisionTreeRegressor\n",
    "from sklearn.ensemble import RandomForestRegressor\n",
    "from sklearn.ensemble import ExtraTreesRegressor\n",
    "from sklearn.ensemble import GradientBoostingRegressor\n",
    "from xgboost import XGBRegressor\n",
    "from lightgbm import LGBMRegressor\n",
    "\n",
    "# Define regression models\n",
    "knn_model = KNeighborsRegressor()\n",
    "linear_model = LinearRegression()\n",
    "svr_model = SVR()\n",
    "decision_model = DecisionTreeRegressor()\n",
    "random_model = RandomForestRegressor()\n",
    "extra_model = ExtraTreesRegressor()\n",
    "gbm_model = GradientBoostingRegressor()\n",
    "xgb_model = XGBRegressor(eval_metric='rmse')\n",
    "lgbm_model = LGBMRegressor()\n",
    "\n",
    "# Assuming train_MLM is the dataset you want to use\n",
    "X_MLM_train = train_MLM.data\n",
    "y_MLM_train = train_MLM.target\n",
    "\n",
    "X_HLM_train = train_HLM.data\n",
    "y_HLM_train = train_HLM.target\n",
    "\n",
    "# Define the regression models in a list\n",
    "regression_models = [\n",
    "    knn_model,\n",
    "    linear_model,\n",
    "    svr_model,\n",
    "    decision_model,\n",
    "    random_model,\n",
    "    extra_model,\n",
    "    gbm_model,\n",
    "    xgb_model,\n",
    "    lgbm_model\n",
    "]\n",
    "\n",
    "k_fold = KFold(n_splits=10, shuffle=True, random_state=0)\n",
    "results = dict()\n",
    "\n",
    "# RMSE를 사용하는 스코어 함수 생성\n",
    "rmse_scorer = make_scorer(lambda y_true, y_pred: -np.sqrt(np.mean((y_true - y_pred) ** 2)), greater_is_better=False)\n",
    "\n",
    "# Training and evaluating regression models\n",
    "for alg in regression_models:\n",
    "    alg.fit(X_MLM_train, y_MLM_train)\n",
    "    score = cross_val_score(alg, X_MLM_train, y_MLM_train, cv=k_fold, scoring=rmse_scorer)\n",
    "    results[alg.__class__.__name__] = -np.mean(score)  # Negative MSE for evaluation\n"
   ]
  },
  {
   "cell_type": "code",
   "execution_count": 15,
   "id": "LUndOSzZIonx",
   "metadata": {
    "id": "LUndOSzZIonx"
   },
   "outputs": [
    {
     "data": {
      "text/plain": [
       "{'KNeighborsRegressor': 1258.438592820784,\n",
       " 'LinearRegression': 1073.6081399593293,\n",
       " 'SVR': 1213.1768267499413,\n",
       " 'DecisionTreeRegressor': 1983.7823636885319,\n",
       " 'RandomForestRegressor': 1038.6077412060572,\n",
       " 'ExtraTreesRegressor': 1077.6726822720034,\n",
       " 'GradientBoostingRegressor': 1036.3051223493233,\n",
       " 'XGBRegressor': 1102.698864141333,\n",
       " 'LGBMRegressor': 1034.2047848480465}"
      ]
     },
     "execution_count": 15,
     "metadata": {},
     "output_type": "execute_result"
    }
   ],
   "source": [
    "results"
   ]
  },
  {
   "cell_type": "markdown",
   "id": "UxaEZ2MAMTDj",
   "metadata": {
    "id": "UxaEZ2MAMTDj"
   },
   "source": [
    "### 정확도 높은 순으로 정렬하기"
   ]
  },
  {
   "cell_type": "code",
   "execution_count": 16,
   "id": "ucTg1J7GIoRo",
   "metadata": {
    "colab": {
     "base_uri": "https://localhost:8080/"
    },
    "id": "ucTg1J7GIoRo",
    "outputId": "eb4cebe0-4b7c-4c18-a797-23ba7fdc9d8a"
   },
   "outputs": [
    {
     "data": {
      "text/plain": [
       "[('DecisionTreeRegressor', 1983.7823636885319),\n",
       " ('KNeighborsRegressor', 1258.438592820784),\n",
       " ('SVR', 1213.1768267499413),\n",
       " ('XGBRegressor', 1102.698864141333),\n",
       " ('ExtraTreesRegressor', 1077.6726822720034),\n",
       " ('LinearRegression', 1073.6081399593293),\n",
       " ('RandomForestRegressor', 1038.6077412060572),\n",
       " ('GradientBoostingRegressor', 1036.3051223493233),\n",
       " ('LGBMRegressor', 1034.2047848480465)]"
      ]
     },
     "execution_count": 16,
     "metadata": {},
     "output_type": "execute_result"
    }
   ],
   "source": [
    "sorted(results.items(), key=lambda x: x[1], reverse=True) # reverse=True 면 높은 순서대로 정렬"
   ]
  },
  {
   "cell_type": "markdown",
   "id": "fLNHDVzQMc4P",
   "metadata": {
    "id": "fLNHDVzQMc4P"
   },
   "source": [
    "### Grid Search XGBoost 적용 1단계 (MLM)"
   ]
  },
  {
   "cell_type": "code",
   "execution_count": null,
   "id": "3vEn7hnHQKS9",
   "metadata": {
    "colab": {
     "base_uri": "https://localhost:8080/"
    },
    "id": "3vEn7hnHQKS9",
    "outputId": "df1453bc-24e2-4a42-9d46-951ad4d45c20"
   },
   "outputs": [
    {
     "name": "stdout",
     "output_type": "stream",
     "text": [
      "Fitting 5 folds for each of 120 candidates, totalling 600 fits\n",
      "-32.01350880628669\n",
      "{'learning_rate': 0.06, 'n_estimators': 150}\n"
     ]
    }
   ],
   "source": [
    "from xgboost import XGBRegressor\n",
    "from sklearn.model_selection import GridSearchCV\n",
    "from sklearn.metrics import make_scorer\n",
    "\n",
    "learning_rate = [0.001, 0.005, 0.01, 0.05, 0.06, 0.1, 0.12, 0.15, 0.17, 0.2]\n",
    "n_estimators = [10, 50, 60, 75, 85, 100, 125, 150, 200, 250, 500, 1000]\n",
    "\n",
    "hyperparams = {\n",
    "    'learning_rate': learning_rate,\n",
    "    'n_estimators': n_estimators\n",
    "}\n",
    "\n",
    "# RMSE를 사용하는 스코어 함수 생성\n",
    "rmse_scorer = make_scorer(lambda y_true, y_pred: np.sqrt(np.mean((y_true - y_pred) ** 2)), greater_is_better=False)\n",
    "\n",
    "gd_MLM = GridSearchCV(\n",
    "    estimator = XGBRegressor(random_state=1),\n",
    "    param_grid = hyperparams,\n",
    "    verbose=True,\n",
    "    cv=5,\n",
    "    scoring = rmse_scorer,\n",
    "    n_jobs=-1\n",
    ")\n",
    "\n",
    "gd_MLM.fit(X_MLM_train, y_MLM_train)\n",
    "print(gd_MLM.best_score_)\n",
    "print(gd_MLM.best_params_)"
   ]
  },
  {
   "cell_type": "markdown",
   "id": "wZ0l_dSDLf-1",
   "metadata": {
    "id": "wZ0l_dSDLf-1"
   },
   "source": [
    "### Grid Search XGBoost 적용 2단계 (MLM)"
   ]
  },
  {
   "cell_type": "code",
   "execution_count": null,
   "id": "qbU9Pd_HQKNN",
   "metadata": {
    "colab": {
     "base_uri": "https://localhost:8080/"
    },
    "id": "qbU9Pd_HQKNN",
    "outputId": "e93b9c1a-4c3d-4272-8517-c77847457574"
   },
   "outputs": [
    {
     "name": "stdout",
     "output_type": "stream",
     "text": [
      "Fitting 5 folds for each of 56 candidates, totalling 280 fits\n",
      "-31.946058242263472\n",
      "{'max_depth': 5, 'min_child_weight': 6}\n"
     ]
    }
   ],
   "source": [
    "max_depth = [3, 4, 5, 6, 7, 8, 9, 10]\n",
    "min_child_weight = [1, 2, 3, 4, 5, 6, 7]\n",
    "\n",
    "hyperparams = {\n",
    "    'max_depth': max_depth,\n",
    "    'min_child_weight': min_child_weight\n",
    "}\n",
    "\n",
    "gd_MLM=GridSearchCV(\n",
    "    estimator = XGBRegressor(learning_rate=0.06, n_estimators=150, random_state=1),\n",
    "    param_grid = hyperparams,\n",
    "    verbose=True,\n",
    "    cv=5,\n",
    "    scoring = rmse_scorer,\n",
    "    n_jobs=-1\n",
    ")\n",
    "\n",
    "gd.fit(X_MLM_train, y_MLM_train)\n",
    "print(gd_MLM.best_score_)\n",
    "print(gd_MLM.best_params_)"
   ]
  },
  {
   "cell_type": "markdown",
   "id": "wfEDhJqGLitm",
   "metadata": {
    "id": "wfEDhJqGLitm"
   },
   "source": [
    "### Grid Search XGBoost 적용 3단계 (MLM)"
   ]
  },
  {
   "cell_type": "code",
   "execution_count": 17,
   "id": "_BzA2CSlQKBz",
   "metadata": {
    "colab": {
     "base_uri": "https://localhost:8080/"
    },
    "id": "_BzA2CSlQKBz",
    "outputId": "730e3521-19f2-4fe1-e08c-d76e5775967e"
   },
   "outputs": [
    {
     "name": "stdout",
     "output_type": "stream",
     "text": [
      "Fitting 5 folds for each of 2025 candidates, totalling 10125 fits\n",
      "-31.585677859861192\n",
      "{'colsample_bytree': 0.6, 'gamma': 0.0, 'reg_alpha': 0.01, 'subsample': 0.6}\n"
     ]
    }
   ],
   "source": [
    "from xgboost import XGBRegressor\n",
    "from sklearn.model_selection import GridSearchCV\n",
    "from sklearn.metrics import make_scorer\n",
    "\n",
    "gamma =  [i*0.1 for i in range(0,5)]\n",
    "subsample = [0.6, 0.65, 0.7, 0.75, 0.8, 0.85, 0.9, 0.95, 1]\n",
    "colsample_bytree = [0.6, 0.65, 0.7, 0.75, 0.8, 0.85, 0.9, 0.95, 1]\n",
    "reg_alpha = [1e-5, 1e-2, 0.1, 1, 100]\n",
    "\n",
    "hyperparams = {\n",
    "    'gamma': gamma,\n",
    "    'subsample':subsample,\n",
    "    'colsample_bytree':colsample_bytree,\n",
    "    'reg_alpha': reg_alpha\n",
    "}\n",
    "\n",
    "\n",
    "# RMSE를 사용하는 스코어 함수 생성\n",
    "rmse_scorer = make_scorer(lambda y_true, y_pred: np.sqrt(np.mean((y_true - y_pred) ** 2)), greater_is_better=False)\n",
    "\n",
    "gd_MLM = GridSearchCV(\n",
    "    estimator = XGBRegressor(\n",
    "        learning_rate=0.06,\n",
    "        n_estimators=150,\n",
    "        max_depth=5,\n",
    "        min_child_weight=6,\n",
    "        random_state=1,\n",
    "    ),\n",
    "    param_grid = hyperparams,\n",
    "    verbose=True,\n",
    "    cv=5,\n",
    "    scoring = rmse_scorer,\n",
    "    n_jobs=-1\n",
    ")\n",
    "\n",
    "gd_MLM.fit(X_MLM_train, y_MLM_train)\n",
    "print(gd_MLM.best_score_)\n",
    "print(gd_MLM.best_params_)"
   ]
  },
  {
   "cell_type": "markdown",
   "id": "j80lahrKooP2",
   "metadata": {
    "id": "j80lahrKooP2"
   },
   "source": [
    "### Grid Search XGBoost 적용 1단계 (HLM)"
   ]
  },
  {
   "cell_type": "code",
   "execution_count": 18,
   "id": "Q4VKAd_xobwG",
   "metadata": {
    "id": "Q4VKAd_xobwG"
   },
   "outputs": [
    {
     "name": "stdout",
     "output_type": "stream",
     "text": [
      "Fitting 5 folds for each of 120 candidates, totalling 600 fits\n",
      "-33.15123900352593\n",
      "{'learning_rate': 0.005, 'n_estimators': 1000}\n"
     ]
    }
   ],
   "source": [
    "from xgboost import XGBRegressor\n",
    "from sklearn.model_selection import GridSearchCV\n",
    "from sklearn.metrics import make_scorer\n",
    "\n",
    "learning_rate = [0.001, 0.005, 0.01, 0.05, 0.06, 0.1, 0.12, 0.15, 0.17, 0.2]\n",
    "n_estimators = [10, 50, 60, 75, 85, 100, 125, 150, 200, 250, 500, 1000]\n",
    "\n",
    "hyperparams = {\n",
    "    'learning_rate': learning_rate,\n",
    "    'n_estimators': n_estimators\n",
    "}\n",
    "\n",
    "# RMSE를 사용하는 스코어 함수 생성\n",
    "rmse_scorer = make_scorer(lambda y_true, y_pred: np.sqrt(np.mean((y_true - y_pred) ** 2)), greater_is_better=False)\n",
    "\n",
    "gd_HLM = GridSearchCV(\n",
    "    estimator = XGBRegressor(random_state=1),\n",
    "    param_grid = hyperparams,\n",
    "    verbose=True,\n",
    "    cv=5,\n",
    "    scoring = rmse_scorer,\n",
    "    n_jobs=-1\n",
    ")\n",
    "\n",
    "gd_HLM.fit(X_HLM_train, y_HLM_train)\n",
    "print(gd_HLM.best_score_)\n",
    "print(gd_HLM.best_params_)"
   ]
  },
  {
   "cell_type": "markdown",
   "id": "bE0IsOcIozzL",
   "metadata": {
    "id": "bE0IsOcIozzL"
   },
   "source": [
    "### Grid Search XGBoost 적용 2단계 (HLM)"
   ]
  },
  {
   "cell_type": "code",
   "execution_count": 19,
   "id": "_NrlonG7obmc",
   "metadata": {
    "id": "_NrlonG7obmc"
   },
   "outputs": [
    {
     "name": "stdout",
     "output_type": "stream",
     "text": [
      "Fitting 5 folds for each of 56 candidates, totalling 280 fits\n",
      "-33.0972776749168\n",
      "{'max_depth': 7, 'min_child_weight': 2}\n"
     ]
    }
   ],
   "source": [
    "max_depth = [3, 4, 5, 6, 7, 8, 9, 10]\n",
    "min_child_weight = [1, 2, 3, 4, 5, 6, 7]\n",
    "\n",
    "hyperparams = {\n",
    "    'max_depth': max_depth,\n",
    "    'min_child_weight': min_child_weight\n",
    "}\n",
    "\n",
    "gd_HLM = GridSearchCV(\n",
    "    estimator = XGBRegressor(learning_rate=0.005, n_estimators=1000, random_state=1),\n",
    "    param_grid = hyperparams,\n",
    "    verbose=True,\n",
    "    cv=5,\n",
    "    scoring = rmse_scorer,\n",
    "    n_jobs=-1\n",
    ")\n",
    "\n",
    "gd_HLM.fit(X_HLM_train, y_HLM_train)\n",
    "print(gd_HLM.best_score_)\n",
    "print(gd_HLM.best_params_)"
   ]
  },
  {
   "cell_type": "markdown",
   "id": "MQsBjvT0o8MH",
   "metadata": {
    "id": "MQsBjvT0o8MH"
   },
   "source": [
    "### Grid Search XGBoost 적용 3단계 (HLM)"
   ]
  },
  {
   "cell_type": "code",
   "execution_count": 20,
   "id": "SWXWPhmjobep",
   "metadata": {
    "id": "SWXWPhmjobep"
   },
   "outputs": [
    {
     "name": "stdout",
     "output_type": "stream",
     "text": [
      "Fitting 5 folds for each of 2025 candidates, totalling 10125 fits\n",
      "-32.72859872046245\n",
      "{'colsample_bytree': 0.7, 'gamma': 0.1, 'reg_alpha': 100, 'subsample': 0.7}\n"
     ]
    }
   ],
   "source": [
    "from xgboost import XGBRegressor\n",
    "from sklearn.model_selection import GridSearchCV\n",
    "from sklearn.metrics import make_scorer\n",
    "\n",
    "gamma =  [i*0.1 for i in range(0,5)]\n",
    "subsample = [0.6, 0.65, 0.7, 0.75, 0.8, 0.85, 0.9, 0.95, 1]\n",
    "colsample_bytree = [0.6, 0.65, 0.7, 0.75, 0.8, 0.85, 0.9, 0.95, 1]\n",
    "reg_alpha = [1e-5, 1e-2, 0.1, 1, 100]\n",
    "\n",
    "hyperparams = {\n",
    "    'gamma': gamma,\n",
    "    'subsample':subsample,\n",
    "    'colsample_bytree':colsample_bytree,\n",
    "    'reg_alpha': reg_alpha\n",
    "}\n",
    "\n",
    "\n",
    "# RMSE를 사용하는 스코어 함수 생성\n",
    "rmse_scorer = make_scorer(lambda y_true, y_pred: np.sqrt(np.mean((y_true - y_pred) ** 2)), greater_is_better=False)\n",
    "\n",
    "gd_HLM = GridSearchCV(\n",
    "    estimator = XGBRegressor(\n",
    "        learning_rate=0.06,\n",
    "        n_estimators=150,\n",
    "        max_depth=7,\n",
    "        min_child_weight=2,\n",
    "        random_state=1,\n",
    "    ),\n",
    "    param_grid = hyperparams,\n",
    "    verbose=True,\n",
    "    cv=5,\n",
    "    scoring = rmse_scorer,\n",
    "    n_jobs=-1\n",
    ")\n",
    "\n",
    "gd_HLM.fit(X_HLM_train, y_HLM_train)\n",
    "print(gd_HLM.best_score_)\n",
    "print(gd_HLM.best_params_)"
   ]
  },
  {
   "cell_type": "code",
   "execution_count": 39,
   "id": "BLvSsyF_m4qs",
   "metadata": {
    "id": "BLvSsyF_m4qs"
   },
   "outputs": [],
   "source": [
    "test_MLM = CustomDataset(test, target_col=None, transform=transform, is_test=True)\n",
    "test_HLM = CustomDataset(test, target_col=None, transform=transform, is_test=True)\n",
    "\n",
    "X_MLM_test = test_MLM.data\n",
    "X_HLM_test = test_HLM.data\n"
   ]
  },
  {
   "cell_type": "code",
   "execution_count": 41,
   "id": "z1aRecxiQJ0f",
   "metadata": {
    "colab": {
     "base_uri": "https://localhost:8080/",
     "height": 251
    },
    "id": "z1aRecxiQJ0f",
    "outputId": "cad7bb59-8263-4146-b6d5-61ecc8a3c111",
    "scrolled": true
   },
   "outputs": [
    {
     "data": {
      "text/plain": [
       "array([32.498413 , 63.314526 , 37.307056 , 35.736782 , 41.19404  ,\n",
       "       45.544655 , 23.965065 , 36.39433  , 28.369818 , 17.321465 ,\n",
       "       21.565899 , 30.368078 , 51.260845 , 32.924393 , 18.88596  ,\n",
       "       52.834156 , 40.758064 , 46.372005 , 72.88903  , 52.177605 ,\n",
       "       37.607136 , 25.966589 , 21.209915 , 27.133661 , 19.061777 ,\n",
       "       37.20327  , 45.224037 , 57.51753  , 36.481083 , 32.632557 ,\n",
       "       49.99327  , 29.83285  , 26.331156 , 37.47392  , 29.131905 ,\n",
       "       31.899126 , 28.01601  , 43.017982 , 37.591118 , 23.26043  ,\n",
       "       30.645182 , 39.672993 , 23.947403 , 18.986769 , 38.94439  ,\n",
       "       64.95583  , 16.309208 , 19.078386 , 52.206207 , 50.112747 ,\n",
       "       50.502758 , 22.751413 , 30.521042 , 29.349707 , 17.601301 ,\n",
       "       25.54568  , 40.728558 , 28.332035 , 35.1954   , 37.992767 ,\n",
       "       30.40296  , 37.890137 , 41.09887  , 44.906826 , 37.282154 ,\n",
       "       43.370865 , 35.82449  , 44.237206 , 42.63974  , 34.995277 ,\n",
       "       31.151976 , 28.1848   , 42.744133 , 36.26829  , 33.19606  ,\n",
       "       51.227272 , 32.02566  , 41.180325 , 41.98767  , 31.094143 ,\n",
       "       39.95564  , 64.61724  , 37.875523 , 30.624144 , 25.872545 ,\n",
       "       63.64441  , 34.344433 , 65.911476 , 51.593327 , 36.92951  ,\n",
       "       31.208757 , 30.980654 , 36.088337 , 38.676346 , 56.217766 ,\n",
       "       23.410278 , 63.39972  , 82.61616  , 15.963503 , 24.643667 ,\n",
       "       63.468544 , 29.1616   , 43.6047   , 43.92667  , 37.581497 ,\n",
       "       31.501162 , 39.002956 , 48.511562 , 20.43359  , 38.125126 ,\n",
       "       45.591454 , 35.63879  , 43.750683 , 47.05991  , 32.17308  ,\n",
       "       21.131605 , 43.425137 , 45.23556  , 39.562336 , 37.71636  ,\n",
       "       46.185024 , 45.305656 , 18.317987 , 29.327757 ,  7.8294387,\n",
       "       54.73743  , 40.548683 , 45.132984 , 51.334976 , 24.279707 ,\n",
       "       30.827099 , 36.53023  , 34.307503 , 45.03473  , 43.598194 ,\n",
       "       29.447083 , 73.2865   , 25.976154 , 24.087015 , 33.1392   ,\n",
       "       15.443176 , 23.26905  , 44.820988 , 23.65932  , 56.142494 ,\n",
       "       29.217422 , 79.34472  , 42.96488  , 17.495455 , 47.050076 ,\n",
       "       33.31594  , 57.629868 , 39.442337 , 17.443733 , 31.426727 ,\n",
       "       37.95264  , 21.897982 , 48.844326 , 37.20425  , 22.554447 ,\n",
       "       52.790813 , 40.694824 , 83.76842  , 54.914177 , 33.642952 ,\n",
       "       37.0833   , 32.892006 , 37.89999  , 51.367733 ,  9.364613 ,\n",
       "       38.693207 , 26.219828 , 29.818392 , 20.558844 ,  9.385234 ,\n",
       "       43.488777 , 41.332367 , 19.02248  , 34.62746  , 36.089172 ,\n",
       "       28.542437 , 37.445656 , 22.764055 , 20.650108 , 49.451534 ,\n",
       "       23.471891 , 32.278633 , 38.84651  , 11.55052  , 37.33945  ,\n",
       "       39.096573 , 26.881317 , 27.889378 , 26.472507 , 26.280321 ,\n",
       "       37.58526  , 61.82634  , 34.94521  , 30.346937 , 56.452126 ,\n",
       "       30.766636 , 42.469997 , 82.22877  , 34.125034 , 54.37857  ,\n",
       "       28.962149 , 25.897884 , 29.21809  , 37.982285 , 38.75209  ,\n",
       "       23.792618 , 45.164497 , 21.227516 , 36.945786 , 16.282093 ,\n",
       "       34.546616 , 24.749495 , 60.70612  , 76.60977  , 53.031082 ,\n",
       "       26.355713 , 38.668686 , 19.404774 , 75.50417  , 53.13462  ,\n",
       "       42.809025 , 24.017076 , 13.757075 , 29.284224 , 32.89342  ,\n",
       "       39.95617  , 38.365036 , 32.5045   , 44.01732  , 24.751444 ,\n",
       "       35.1986   , 33.662663 , 26.241602 , 19.518135 , 31.19759  ,\n",
       "       48.51987  , 63.086147 , 75.540184 , 36.309334 , 54.754356 ,\n",
       "       42.816536 , 87.60142  , 20.7519   , 41.077797 , 32.70788  ,\n",
       "       80.597725 , 47.55648  , 48.650204 , 29.12036  , 51.511715 ,\n",
       "       17.756704 , 46.901546 , 53.016014 , 55.50096  , 63.14773  ,\n",
       "       37.261982 , 57.42611  , 26.71965  , 48.646797 , 20.567617 ,\n",
       "       38.27001  , 22.845842 , 44.77933  , 40.229    , 21.603302 ,\n",
       "       71.80694  , 51.90436  , 48.644238 , 35.68533  ,  8.5184965,\n",
       "       34.945477 , 38.104897 , 43.499126 , 33.557774 , 21.974615 ,\n",
       "       33.22743  ,  1.8810129, 12.011626 , 69.878784 , 56.44214  ,\n",
       "       52.96325  , 76.81658  , 62.579678 , 43.792465 , 42.545395 ,\n",
       "       16.820364 , 41.385006 , 32.760544 , 30.481966 , 51.192696 ,\n",
       "       11.123926 , 43.345493 , 25.695967 , 44.890186 , 34.830536 ,\n",
       "       44.049347 , 86.673584 , 39.669952 , 48.65909  , 30.348953 ,\n",
       "       27.78129  , 32.93472  , 27.276537 , 40.469128 , 39.228657 ,\n",
       "       37.125618 , 26.432467 , 31.48238  , 42.685047 , 20.367374 ,\n",
       "       17.768261 , 31.078407 , 33.204296 , 35.93592  , 57.393364 ,\n",
       "       25.605692 , 38.70544  , 50.170757 , 34.118484 , 40.19399  ,\n",
       "       29.276764 , 28.842337 , 75.79152  , 69.41782  , 26.218061 ,\n",
       "       49.24227  , 45.332153 , 54.081074 , 14.979799 , 43.004086 ,\n",
       "       38.806118 , 34.54537  , 40.10826  , 45.47392  , 13.90328  ,\n",
       "       22.916082 , 40.144115 , 29.18911  , 34.141407 , 46.40405  ,\n",
       "       44.950916 , 25.454927 , 61.25616  , 22.51104  , 38.399647 ,\n",
       "       18.841022 , 25.802628 , 24.09376  , 36.88783  , 49.41509  ,\n",
       "       10.305866 , 47.306915 , 23.716623 , 27.908897 , 35.7384   ,\n",
       "       24.94818  , 43.07845  , 44.293514 , 32.34371  , 44.56918  ,\n",
       "       47.986885 , 20.882202 , 42.442585 , 49.255188 , 54.780647 ,\n",
       "       45.715607 , 36.1015   , 36.862507 , 12.696362 , 19.308508 ,\n",
       "       63.710735 , 30.210299 , 38.417942 , 42.79949  , 46.628014 ,\n",
       "       39.334476 , 36.073475 , 59.29984  , 22.31272  , 47.090084 ,\n",
       "       41.04288  , 23.239613 , 66.27529  , 27.531471 ,  9.475409 ,\n",
       "       54.457943 , 28.651367 , 48.609756 , 26.536806 , 41.297688 ,\n",
       "       38.917202 , 26.53573  , 39.95763  , 27.512823 , 40.722794 ,\n",
       "       47.72867  , 45.98234  , 46.103596 , 40.740097 , 31.696114 ,\n",
       "       47.11186  , 41.60094  , 44.753693 , 53.171658 , 35.55415  ,\n",
       "       67.661156 , 28.934599 , 45.200203 , 20.233501 , 48.44352  ,\n",
       "       35.550613 , 60.957798 , 46.145523 , 39.578438 , 30.599413 ,\n",
       "       21.139877 , 41.25881  , 28.412172 , 32.806717 , 34.82254  ,\n",
       "       32.651802 , 43.4563   , 22.026735 , 60.671944 , 50.229897 ,\n",
       "       62.50468  , 36.35945  , 30.339357 , 51.635612 , 22.033411 ,\n",
       "       78.814224 , 35.74125  , 46.421944 , 40.826035 , 34.139862 ,\n",
       "       48.552353 , 31.510443 , 29.28437  , 22.53039  , 44.332565 ,\n",
       "       52.18228  , 23.17911  , 48.24587  , 23.29743  , 10.903507 ,\n",
       "       55.858868 , 48.502056 , 39.461277 , 42.171562 , 36.595592 ,\n",
       "       47.87617  , 20.732067 , 34.73358  , 34.83538  , 27.813713 ,\n",
       "       50.574356 , 65.66942  , 24.580305 , 19.361158 , 65.82619  ,\n",
       "       26.590338 , 13.813071 , 54.113766 , 36.64365  , 36.503586 ,\n",
       "       51.059464 , 28.955244 , 31.459497 , 40.615154 , 39.31564  ,\n",
       "       54.165577 , 34.71462  , 17.875755 , 39.669918 , 65.164055 ,\n",
       "       20.394632 , 52.609375 , 32.28291  ], dtype=float32)"
      ]
     },
     "execution_count": 41,
     "metadata": {},
     "output_type": "execute_result"
    }
   ],
   "source": [
    "# GridSearchCV를 사용하여 최적 하이퍼파라미터로 모델 학습 (이미 위에서 수행한 코드)\n",
    "\n",
    "# 최적 모델 선택\n",
    "best_MLM_model = gd_MLM.best_estimator_\n",
    "best_HLM_model = gd_HLM.best_estimator_\n",
    "\n",
    "# 테스트 데이터로 예측 생성\n",
    "y_MLM_pred = best_MLM_model.predict(X_MLM_test)\n",
    "y_HLM_pred = best_HLM_model.predict(X_HLM_test)\n",
    "\n",
    "# 예측 결과를 저장하거나 활용\n",
    "y_MLM_pred"
   ]
  },
  {
   "cell_type": "code",
   "execution_count": 44,
   "id": "51_QfzLAQJyZ",
   "metadata": {
    "id": "51_QfzLAQJyZ"
   },
   "outputs": [
    {
     "data": {
      "text/html": [
       "<div>\n",
       "<style scoped>\n",
       "    .dataframe tbody tr th:only-of-type {\n",
       "        vertical-align: middle;\n",
       "    }\n",
       "\n",
       "    .dataframe tbody tr th {\n",
       "        vertical-align: top;\n",
       "    }\n",
       "\n",
       "    .dataframe thead th {\n",
       "        text-align: right;\n",
       "    }\n",
       "</style>\n",
       "<table border=\"1\" class=\"dataframe\">\n",
       "  <thead>\n",
       "    <tr style=\"text-align: right;\">\n",
       "      <th></th>\n",
       "      <th>id</th>\n",
       "      <th>MLM</th>\n",
       "      <th>HLM</th>\n",
       "    </tr>\n",
       "  </thead>\n",
       "  <tbody>\n",
       "    <tr>\n",
       "      <th>0</th>\n",
       "      <td>TEST_000</td>\n",
       "      <td>32.498413</td>\n",
       "      <td>55.957294</td>\n",
       "    </tr>\n",
       "    <tr>\n",
       "      <th>1</th>\n",
       "      <td>TEST_001</td>\n",
       "      <td>63.314526</td>\n",
       "      <td>74.960510</td>\n",
       "    </tr>\n",
       "    <tr>\n",
       "      <th>2</th>\n",
       "      <td>TEST_002</td>\n",
       "      <td>37.307056</td>\n",
       "      <td>52.804085</td>\n",
       "    </tr>\n",
       "    <tr>\n",
       "      <th>3</th>\n",
       "      <td>TEST_003</td>\n",
       "      <td>35.736782</td>\n",
       "      <td>62.331223</td>\n",
       "    </tr>\n",
       "    <tr>\n",
       "      <th>4</th>\n",
       "      <td>TEST_004</td>\n",
       "      <td>41.194038</td>\n",
       "      <td>66.093102</td>\n",
       "    </tr>\n",
       "    <tr>\n",
       "      <th>...</th>\n",
       "      <td>...</td>\n",
       "      <td>...</td>\n",
       "      <td>...</td>\n",
       "    </tr>\n",
       "    <tr>\n",
       "      <th>478</th>\n",
       "      <td>TEST_478</td>\n",
       "      <td>39.669918</td>\n",
       "      <td>56.745899</td>\n",
       "    </tr>\n",
       "    <tr>\n",
       "      <th>479</th>\n",
       "      <td>TEST_479</td>\n",
       "      <td>65.164055</td>\n",
       "      <td>77.949089</td>\n",
       "    </tr>\n",
       "    <tr>\n",
       "      <th>480</th>\n",
       "      <td>TEST_480</td>\n",
       "      <td>20.394632</td>\n",
       "      <td>42.223988</td>\n",
       "    </tr>\n",
       "    <tr>\n",
       "      <th>481</th>\n",
       "      <td>TEST_481</td>\n",
       "      <td>52.609375</td>\n",
       "      <td>68.454201</td>\n",
       "    </tr>\n",
       "    <tr>\n",
       "      <th>482</th>\n",
       "      <td>TEST_482</td>\n",
       "      <td>32.282909</td>\n",
       "      <td>74.060707</td>\n",
       "    </tr>\n",
       "  </tbody>\n",
       "</table>\n",
       "<p>483 rows × 3 columns</p>\n",
       "</div>"
      ],
      "text/plain": [
       "           id        MLM        HLM\n",
       "0    TEST_000  32.498413  55.957294\n",
       "1    TEST_001  63.314526  74.960510\n",
       "2    TEST_002  37.307056  52.804085\n",
       "3    TEST_003  35.736782  62.331223\n",
       "4    TEST_004  41.194038  66.093102\n",
       "..        ...        ...        ...\n",
       "478  TEST_478  39.669918  56.745899\n",
       "479  TEST_479  65.164055  77.949089\n",
       "480  TEST_480  20.394632  42.223988\n",
       "481  TEST_481  52.609375  68.454201\n",
       "482  TEST_482  32.282909  74.060707\n",
       "\n",
       "[483 rows x 3 columns]"
      ]
     },
     "execution_count": 44,
     "metadata": {},
     "output_type": "execute_result"
    }
   ],
   "source": [
    "submission = pd.read_csv('./data/sample_submission.csv')\n",
    "\n",
    "submission['MLM'] = y_MLM_pred\n",
    "submission['HLM'] = y_HLM_pred\n",
    "submission"
   ]
  },
  {
   "cell_type": "code",
   "execution_count": 45,
   "id": "Oa7jk5fmQJvi",
   "metadata": {
    "id": "Oa7jk5fmQJvi"
   },
   "outputs": [],
   "source": [
    "submission.to_csv('./submissions/XGBoost_submission_1.csv', index=False)"
   ]
  }
 ],
 "metadata": {
  "accelerator": "GPU",
  "colab": {
   "gpuType": "T4",
   "provenance": []
  },
  "kernelspec": {
   "display_name": "Python 3 (ipykernel)",
   "language": "python",
   "name": "python3"
  },
  "language_info": {
   "codemirror_mode": {
    "name": "ipython",
    "version": 3
   },
   "file_extension": ".py",
   "mimetype": "text/x-python",
   "name": "python",
   "nbconvert_exporter": "python",
   "pygments_lexer": "ipython3",
   "version": "3.10.9"
  }
 },
 "nbformat": 4,
 "nbformat_minor": 5
}
